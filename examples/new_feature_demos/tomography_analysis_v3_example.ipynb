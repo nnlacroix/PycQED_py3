{
 "cells": [
  {
   "cell_type": "markdown",
   "metadata": {},
   "source": [
    "# Init"
   ]
  },
  {
   "cell_type": "code",
   "execution_count": 1,
   "metadata": {},
   "outputs": [
    {
     "name": "stdout",
     "output_type": "stream",
     "text": [
      "c:\\users\\qudev102\\desktop\\working_folder\\pycqed_py3\\data\n",
      "Data directory set to: c:\\users\\qudev102\\desktop\\working_folder\\pycqed_py3\\data\n"
     ]
    }
   ],
   "source": [
    "import os\n",
    "import time\n",
    "import h5py\n",
    "import pickle\n",
    "import itertools\n",
    "import numpy as np\n",
    "import qutip as qtp\n",
    "from importlib import reload\n",
    "import matplotlib.pyplot as plt\n",
    "\n",
    "import collections\n",
    "odict = collections.OrderedDict\n",
    "\n",
    "from pycqed.analysis_v3 import *\n",
    "import pycqed.analysis.analysis_toolbox as a_tools\n",
    "from pycqed.measurement.calibration import calibration_points as cp_mod"
   ]
  },
  {
   "cell_type": "code",
   "execution_count": 2,
   "metadata": {},
   "outputs": [],
   "source": [
    "a_tools.datadir = r'C:\\Users\\Qudev102\\Desktop\\working_folder\\data'"
   ]
  },
  {
   "cell_type": "code",
   "execution_count": null,
   "metadata": {},
   "outputs": [],
   "source": []
  },
  {
   "cell_type": "code",
   "execution_count": 3,
   "metadata": {},
   "outputs": [],
   "source": [
    "U1s = {pulse: tomo_ana.standard_qubit_pulses_to_rotations([(pulse,)])[0] for pulse in \n",
    "       ['X90', 'Y90', 'mX90', 'mY90', 'I', 'X180', 'Y180', 'mY180', 'mX180']}\n",
    "UCZ = qtp.Qobj(np.diag([1, 1, 1, -1]), dims = [[2, 2], [2, 2]])"
   ]
  },
  {
   "cell_type": "markdown",
   "metadata": {},
   "source": [
    "# State tomogrpahy"
   ]
  },
  {
   "cell_type": "code",
   "execution_count": 11,
   "metadata": {},
   "outputs": [],
   "source": [
    "reload_anav3()"
   ]
  },
  {
   "cell_type": "code",
   "execution_count": 20,
   "metadata": {},
   "outputs": [
    {
     "name": "stderr",
     "output_type": "stream",
     "text": [
      "WARNING:pycqed.measurement.hdf5_data:Type \"<class 'qutip.qobj.Qobj'>\" for \"rho\" (key): \"Quantum object: dims = [[4], [4]], shape = (4, 4), type = oper, isherm = True\n",
      "Qobj data =\n",
      "[[ 5.49723743e-01+0.j          3.11494468e-03+0.47856572j\n",
      "  -2.11716201e-02-0.00551653j  3.07858063e-03-0.01145445j]\n",
      " [ 3.11494468e-03-0.47856572j  4.57684697e-01+0.j\n",
      "  -1.33581601e-02+0.02053924j -3.59689115e-03-0.00744189j]\n",
      " [-2.11716201e-02+0.00551653j -1.33581601e-02-0.02053924j\n",
      "  -4.19303734e-03+0.j         -3.34675192e-05-0.00353628j]\n",
      " [ 3.07858063e-03+0.01145445j -3.59689115e-03+0.00744189j\n",
      "  -3.34675192e-05+0.00353628j -3.21540237e-03+0.j        ]]\" (item) at location <HDF5 group \"/least_squares\" (0 members)> not supported, storing as string\n",
      "WARNING:pycqed.measurement.hdf5_data:Type \"<class 'qutip.qobj.Qobj'>\" for \"rho\" (key): \"Quantum object: dims = [[4], [4]], shape = (4, 4), type = oper, isherm = True\n",
      "Qobj data =\n",
      "[[ 5.45102554e-01+0.00000000e+00j  3.02269831e-03+4.76857885e-01j\n",
      "  -2.00208641e-02-7.09481575e-03j  5.07289173e-03-7.29795504e-03j]\n",
      " [ 3.02269831e-03-4.76857885e-01j  4.53689609e-01+0.00000000e+00j\n",
      "  -8.23820505e-03+1.84647627e-02j -4.82542455e-03-5.74488135e-03j]\n",
      " [-2.00208641e-02+7.09481575e-03j -8.23820505e-03-1.84647627e-02j\n",
      "   9.55532399e-04+0.00000000e+00j -2.06179009e-04+3.59203292e-04j]\n",
      " [ 5.07289173e-03+7.29795504e-03j -4.82542455e-03+5.74488135e-03j\n",
      "  -2.06179009e-04-3.59203292e-04j  2.53023094e-04+0.00000000e+00j]]\" (item) at location <HDF5 group \"/max_likelihood\" (0 members)> not supported, storing as string\n"
     ]
    },
    {
     "name": "stdout",
     "output_type": "stream",
     "text": [
      "Total time:  10.899229526519775\n"
     ]
    }
   ],
   "source": [
    "t0 = time.time()\n",
    "timestamp = '20200807_103920'\n",
    "prep_pulses = ('I', 'X90')\n",
    "meas_obj_names = ['qb6', 'qb5']\n",
    "meas_obj_value_names_map = {'qb6': ['UHF1_raw w6 UHF1'], 'qb5': ['UHF1_raw w4 UHF1']}\n",
    "\n",
    "\n",
    "basis_rots = ('I', 'X90', 'Y90', 'X180')\n",
    "estimation_types=('least_squares', 'max_likelihood')\n",
    "rho_target = qtp.Qobj((UCZ * qtp.tensor(U1s[prep_pulses[0]], U1s[prep_pulses[1]]) * \n",
    "          qtp.tensor(qtp.basis(2), qtp.basis(2))).full())  \n",
    "\n",
    "pp = pp_mod.ProcessingPipeline()\n",
    "pp.add_node('threshold_data', keys_in='raw', meas_obj_names=meas_obj_names)\n",
    "pp.add_node('state_tomography_analysis', keys_in='previous threshold_data', meas_obj_names=meas_obj_names,\n",
    "            joint_processing=True, basis_rots=basis_rots, do_preselection=True,\n",
    "            rho_target=rho_target, estimation_types=estimation_types,\n",
    "            do_bootstrapping=True, Nbstrp=5 # does bootstrapping error estimation\n",
    "           )     \n",
    "\n",
    "\n",
    "cal_states = cp_mod.CalibrationPoints.guess_cal_states('auto')\n",
    "cp = cp_mod.CalibrationPoints.multi_qubit(meas_obj_names, cal_states, n_per_state=2)\n",
    "params_dict = {f'{qbn}.acq_classifier_params': f'Instrument settings.{qbn}.acq_classifier_params' \n",
    "               for qbn in meas_obj_names}\n",
    "data_dict = {'meas_obj_value_names_map': meas_obj_value_names_map,\n",
    "             'cal_points': repr(cp),\n",
    "             'preparation_params': {'preparation_type': 'preselection'}}\n",
    "data_dict = dat_extr_mod.extract_data_hdf(timestamps=timestamp, label=''.join(prep_pulses),\n",
    "                                          data_dict=data_dict, params_dict=params_dict)\n",
    "\n",
    "pla.process_pipeline(data_dict, processing_pipeline=pp, save_figures=True, save_processed_data=True)  \n",
    "print('Total time: ', time.time() - t0)"
   ]
  },
  {
   "cell_type": "code",
   "execution_count": 21,
   "metadata": {},
   "outputs": [
    {
     "data": {
      "text/plain": [
       "dict_keys(['meas_obj_value_names_map', 'cal_points', 'preparation_params', 'is_data_dict', 'timestamps', 'folders', 'exp_metadata', 'qb6', 'qb5', 'basis_rots', 'n_readouts', 'observables', 'probability_table', 'measurement_ops', 'cov_matrix_meas_obs', 'probability_table_filtered', 'all_measurement_operators', 'all_measurement_results', 'all_cov_matrix_meas_obs', 'rho_target', 'least_squares', 'max_likelihood', 'plot_dicts', 'figures', 'axes', 'Nbstrp'])"
      ]
     },
     "execution_count": 21,
     "metadata": {},
     "output_type": "execute_result"
    }
   ],
   "source": [
    "data_dict.keys()"
   ]
  },
  {
   "cell_type": "code",
   "execution_count": 22,
   "metadata": {},
   "outputs": [
    {
     "data": {
      "text/plain": [
       "OrderedDict([('rho',\n",
       "              Quantum object: dims = [[4], [4]], shape = (4, 4), type = oper, isherm = True\n",
       "              Qobj data =\n",
       "              [[ 5.45102554e-01+0.00000000e+00j  3.02269831e-03+4.76857885e-01j\n",
       "                -2.00208641e-02-7.09481575e-03j  5.07289173e-03-7.29795504e-03j]\n",
       "               [ 3.02269831e-03-4.76857885e-01j  4.53689609e-01+0.00000000e+00j\n",
       "                -8.23820505e-03+1.84647627e-02j -4.82542455e-03-5.74488135e-03j]\n",
       "               [-2.00208641e-02+7.09481575e-03j -8.23820505e-03-1.84647627e-02j\n",
       "                 9.55532399e-04+0.00000000e+00j -2.06179009e-04+3.59203292e-04j]\n",
       "               [ 5.07289173e-03+7.29795504e-03j -4.82542455e-03+5.74488135e-03j\n",
       "                -2.06179009e-04-3.59203292e-04j  2.53023094e-04+0.00000000e+00j]]),\n",
       "             ('purity', 0.9597680738985529),\n",
       "             ('fidelity', 0.9762539832118543),\n",
       "             ('concurrence', 0.023539542462967612),\n",
       "             ('bootstrapping_fidelities',\n",
       "              array([0.97329326, 0.9725431 , 0.96730034, 0.96913598, 0.97577358]))])"
      ]
     },
     "execution_count": 22,
     "metadata": {},
     "output_type": "execute_result"
    }
   ],
   "source": [
    "data_dict['max_likelihood']"
   ]
  },
  {
   "cell_type": "markdown",
   "metadata": {},
   "source": [
    "## measurement_ops from MRO"
   ]
  },
  {
   "cell_type": "code",
   "execution_count": 13,
   "metadata": {},
   "outputs": [],
   "source": [
    "bell_state_map = lambda qbcn, qbtn: [{\n",
    "    'phi+': (['Y90 ' + qbcn, 'mY90s ' + qbtn, 'upCZ ' + qbtn + ' ' + qbcn, 'mY90 ' + qbcn],\n",
    "             (qtp.tensor(U1s['mY90'], U1s['I'])*UCZ*qtp.tensor(U1s['Y90'], U1s['mY90'])*\\\n",
    "                 qtp.tensor(qtp.basis(2), qtp.basis(2))).full()),\n",
    "    'phi-': (['Y90 ' + qbcn, 'Y90s ' + qbtn, 'upCZ ' + qbtn + ' ' + qbcn, 'mY90 ' + qbcn],\n",
    "             (qtp.tensor(U1s['mY90'], U1s['I'])*UCZ*qtp.tensor(U1s['Y90'], U1s['Y90'])*\\\n",
    "                 qtp.tensor(qtp.basis(2), qtp.basis(2))).full()),\n",
    "    'psi+': (['Y90 ' + qbcn, 'Y90s ' + qbtn, 'upCZ ' + qbtn + ' ' + qbcn, 'Y90 ' + qbcn],\n",
    "             (qtp.tensor(U1s['Y90'], U1s['I'])*UCZ*qtp.tensor(U1s['Y90'], U1s['Y90'])*\\\n",
    "                 qtp.tensor(qtp.basis(2), qtp.basis(2))).full()),\n",
    "    'psi-': (['Y90 ' + qbcn, 'mY90s ' + qbtn, 'upCZ ' + qbtn + ' ' + qbcn, 'Y90 ' + qbcn],\n",
    "             (qtp.tensor(U1s['Y90'], U1s['I'])*UCZ*qtp.tensor(U1s['Y90'], U1s['mY90'])*\\\n",
    "                 qtp.tensor(qtp.basis(2), qtp.basis(2))).full()),\n",
    "}]"
   ]
  },
  {
   "cell_type": "code",
   "execution_count": 14,
   "metadata": {
    "scrolled": true
   },
   "outputs": [],
   "source": [
    "timestamp = '20200817_131956' # tomo measurement\n",
    "timestamp_mro = '20200817_125630' # mro measurement"
   ]
  },
  {
   "cell_type": "code",
   "execution_count": 15,
   "metadata": {},
   "outputs": [
    {
     "data": {
      "text/plain": [
       "[array([[9.12652118e-01, 0.00000000e+00, 0.00000000e+00, 0.00000000e+00],\n",
       "        [0.00000000e+00, 7.33863315e-02, 0.00000000e+00, 0.00000000e+00],\n",
       "        [0.00000000e+00, 0.00000000e+00, 1.31947447e-02, 0.00000000e+00],\n",
       "        [0.00000000e+00, 0.00000000e+00, 0.00000000e+00, 7.66805691e-04]]),\n",
       " array([[1.54991490e-02, 0.00000000e+00, 0.00000000e+00, 0.00000000e+00],\n",
       "        [0.00000000e+00, 9.71433767e-01, 0.00000000e+00, 0.00000000e+00],\n",
       "        [0.00000000e+00, 0.00000000e+00, 4.34529977e-04, 0.00000000e+00],\n",
       "        [0.00000000e+00, 0.00000000e+00, 0.00000000e+00, 1.26325544e-02]]),\n",
       " array([[3.36171976e-03, 0.00000000e+00, 0.00000000e+00, 0.00000000e+00],\n",
       "        [0.00000000e+00, 3.96479856e-04, 0.00000000e+00, 0.00000000e+00],\n",
       "        [0.00000000e+00, 0.00000000e+00, 9.26003133e-01, 0.00000000e+00],\n",
       "        [0.00000000e+00, 0.00000000e+00, 0.00000000e+00, 7.02386674e-02]]),\n",
       " array([[0.00000000e+00, 0.00000000e+00, 0.00000000e+00, 0.00000000e+00],\n",
       "        [0.00000000e+00, 8.89210850e-04, 0.00000000e+00, 0.00000000e+00],\n",
       "        [0.00000000e+00, 0.00000000e+00, 1.87596782e-02, 0.00000000e+00],\n",
       "        [0.00000000e+00, 0.00000000e+00, 0.00000000e+00, 9.80351111e-01]])]"
      ]
     },
     "execution_count": 15,
     "metadata": {},
     "output_type": "execute_result"
    }
   ],
   "source": [
    "from pycqed.analysis_v2 import readout_analysis as ra\n",
    "meas_obj_names = ['qb12', 'qb13']\n",
    "channel_map = hlp_mod.get_param_from_metadata_group(timestamp, 'meas_obj_value_names_map')\n",
    "channel_map = {k: v[0] for k, v in channel_map.items()}\n",
    "params_dict = {f'{qbn}.acq_classifier_params': f'Instrument settings.{qbn}.acq_classifier_params' \n",
    "               for qbn in meas_obj_names}\n",
    "thresholds = {}\n",
    "hlp_mod.get_params_from_hdf_file(thresholds, params_dict, folder=a_tools.get_folder(timestamp_mro))\n",
    "thresholds = {k: v['acq_classifier_params']['thresholds'][0] for k, v in thresholds.items()}\n",
    "\n",
    "\n",
    "MA_ro = ra.Multiplexed_Readout_Analysis(timestamp_mro, options_dict=dict(\n",
    "                                        n_readouts=2*2**len(meas_obj_names),\n",
    "                                        thresholds=odict([(qb, thresholds[qb]) for qb in meas_obj_names]),\n",
    "                                        channel_map=odict([(qb, channel_map[qb]) for qb in meas_obj_names]),\n",
    "                                        use_preselection=True,\n",
    "                                        inverted_thresholds=False))\n",
    "P = MA_ro.proc_data_dict['probability_table']\n",
    "P = P[1::2,1:]\n",
    "P = np.array([col/np.sum(col) for col in P])\n",
    "meas_operators = [np.diag(col)/np.sum(col) for col in P.T]\n",
    "meas_operators"
   ]
  },
  {
   "cell_type": "code",
   "execution_count": 10,
   "metadata": {},
   "outputs": [],
   "source": [
    "reload_anav3()"
   ]
  },
  {
   "cell_type": "code",
   "execution_count": 16,
   "metadata": {
    "scrolled": true
   },
   "outputs": [
    {
     "name": "stderr",
     "output_type": "stream",
     "text": [
      "WARNING:pycqed.measurement.hdf5_data:Type \"<class 'qutip.qobj.Qobj'>\" for \"rho\" (key): \"Quantum object: dims = [[4], [4]], shape = (4, 4), type = oper, isherm = True\n",
      "Qobj data =\n",
      "[[ 0.55924406+0.j         -0.05043857+0.05754473j -0.27675425-0.28270709j\n",
      "   0.04858278-0.01076984j]\n",
      " [-0.05043857-0.05754473j  0.44981883+0.j          0.00246112+0.04871727j\n",
      "  -0.23195025-0.22622827j]\n",
      " [-0.27675425+0.28270709j  0.00246112-0.04871727j -0.00823222+0.j\n",
      "   0.00462115-0.00102548j]\n",
      " [ 0.04858278+0.01076984j -0.23195025+0.22622827j  0.00462115+0.00102548j\n",
      "  -0.00083067+0.j        ]]\" (item) at location <HDF5 group \"/least_squares\" (0 members)> not supported, storing as string\n",
      "WARNING:pycqed.measurement.hdf5_data:Type \"<class 'qutip.qobj.Qobj'>\" for \"rho\" (key): \"Quantum object: dims = [[4], [4]], shape = (4, 4), type = oper, isherm = True\n",
      "Qobj data =\n",
      "[[ 0.43773273+0.j         -0.03885337+0.05773877j -0.15868767-0.16032619j\n",
      "   0.0340705 -0.00938191j]\n",
      " [-0.03885337-0.05773877j  0.35114582+0.j         -0.00581768+0.03406901j\n",
      "  -0.12992995-0.1281549j ]\n",
      " [-0.15868767+0.16032619j -0.00581768-0.03406901j  0.11625769+0.j\n",
      "  -0.00897484+0.01502033j]\n",
      " [ 0.0340705 +0.00938191j -0.12992995+0.1281549j  -0.00897484-0.01502033j\n",
      "   0.09486385+0.j        ]]\" (item) at location <HDF5 group \"/max_likelihood\" (0 members)> not supported, storing as string\n"
     ]
    },
    {
     "name": "stdout",
     "output_type": "stream",
     "text": [
      "Total time:  4.22136116027832\n"
     ]
    }
   ],
   "source": [
    "t0 = time.time()\n",
    "\n",
    "basis_rots = ('I', 'Y90', 'X90')\n",
    "estimation_types=('least_squares', 'max_likelihood')\n",
    "state_name = 'phi+'\n",
    "rho_target = bell_state_map(*meas_obj_names)[0][state_name][1]\n",
    "\n",
    "pp = pp_mod.ProcessingPipeline()\n",
    "pp.add_node('threshold_data', keys_in='raw', meas_obj_names=meas_obj_names)\n",
    "pp.add_node('state_tomography_analysis', keys_in='previous threshold_data', meas_obj_names=meas_obj_names,\n",
    "            joint_processing=True, basis_rots=basis_rots, do_preselection=True,\n",
    "            rho_target=rho_target, estimation_types=estimation_types,\n",
    "            measurement_ops=meas_operators,\n",
    "            do_bootstrapping=False, Nbstrp=5 # does bootstrapping error estimation\n",
    "           )     \n",
    "\n",
    "\n",
    "params_dict = {f'{qbn}.acq_classifier_params': f'Instrument settings.{qbn}.acq_classifier_params' \n",
    "               for qbn in meas_obj_names}\n",
    "data_dict = dat_extr_mod.extract_data_hdf(timestamps=timestamp, params_dict=params_dict)\n",
    "\n",
    "pla.process_pipeline(data_dict, processing_pipeline=pp, save_figures=True, save_processed_data=True)  \n",
    "print('Total time: ', time.time() - t0)"
   ]
  },
  {
   "cell_type": "markdown",
   "metadata": {},
   "source": [
    "# Process tomography"
   ]
  },
  {
   "cell_type": "markdown",
   "metadata": {},
   "source": [
    "Do all the state tomography analyses"
   ]
  },
  {
   "cell_type": "code",
   "execution_count": 17,
   "metadata": {
    "scrolled": true
   },
   "outputs": [
    {
     "name": "stdout",
     "output_type": "stream",
     "text": [
      "('I', 'I') ['20200807_103733']\n"
     ]
    },
    {
     "name": "stderr",
     "output_type": "stream",
     "text": [
      "WARNING:pycqed.measurement.hdf5_data:Type \"<class 'qutip.qobj.Qobj'>\" for \"rho\" (key): \"Quantum object: dims = [[4], [4]], shape = (4, 4), type = oper, isherm = True\n",
      "Qobj data =\n",
      "[[ 1.01216098e+00+0.j          6.45795680e-03+0.00546935j\n",
      "  -7.10868647e-03-0.00852296j  5.03465629e-04+0.0039615j ]\n",
      " [ 6.45795680e-03-0.00546935j -4.92202514e-03+0.j\n",
      "  -4.03956853e-03-0.0020252j  -1.32345386e-03-0.00063475j]\n",
      " [-7.10868647e-03+0.00852296j -4.03956853e-03+0.0020252j\n",
      "  -4.04793618e-03+0.j          1.40058843e-03+0.00088892j]\n",
      " [ 5.03465629e-04-0.0039615j  -1.32345386e-03+0.00063475j\n",
      "   1.40058843e-03-0.00088892j -3.19102148e-03+0.j        ]]\" (item) at location <HDF5 group \"/least_squares\" (0 members)> not supported, storing as string\n",
      "WARNING:pycqed.measurement.hdf5_data:Type \"<class 'qutip.qobj.Qobj'>\" for \"rho\" (key): \"Quantum object: dims = [[4], [4]], shape = (4, 4), type = oper, isherm = True\n",
      "Qobj data =\n",
      "[[ 9.99787265e-01+0.00000000e+00j  6.60355939e-03+5.44160773e-03j\n",
      "  -7.44834859e-03-8.51502118e-03j  4.34191290e-04+3.43133788e-03j]\n",
      " [ 6.60355939e-03-5.44160773e-03j  7.32337577e-05+0.00000000e+00j\n",
      "  -9.55426165e-05-1.57023856e-05j  2.15438958e-05+2.03010250e-05j]\n",
      " [-7.44834859e-03+8.51502118e-03j -9.55426165e-05+1.57023856e-05j\n",
      "   1.28042403e-04+0.00000000e+00j -3.24718523e-05-2.18297829e-05j]\n",
      " [ 4.34191290e-04-3.43133788e-03j  2.15438958e-05-2.03010250e-05j\n",
      "  -3.24718523e-05+2.18297829e-05j  1.21530465e-05+0.00000000e+00j]]\" (item) at location <HDF5 group \"/max_likelihood\" (0 members)> not supported, storing as string\n"
     ]
    },
    {
     "name": "stdout",
     "output_type": "stream",
     "text": [
      "('I', 'X90') ['20200807_103920']\n"
     ]
    },
    {
     "name": "stderr",
     "output_type": "stream",
     "text": [
      "WARNING:pycqed.measurement.hdf5_data:Type \"<class 'qutip.qobj.Qobj'>\" for \"rho\" (key): \"Quantum object: dims = [[4], [4]], shape = (4, 4), type = oper, isherm = True\n",
      "Qobj data =\n",
      "[[ 5.49723743e-01+0.j          3.11494468e-03+0.47856572j\n",
      "  -2.11716201e-02-0.00551653j  3.07858063e-03-0.01145445j]\n",
      " [ 3.11494468e-03-0.47856572j  4.57684697e-01+0.j\n",
      "  -1.33581601e-02+0.02053924j -3.59689115e-03-0.00744189j]\n",
      " [-2.11716201e-02+0.00551653j -1.33581601e-02-0.02053924j\n",
      "  -4.19303734e-03+0.j         -3.34675192e-05-0.00353628j]\n",
      " [ 3.07858063e-03+0.01145445j -3.59689115e-03+0.00744189j\n",
      "  -3.34675192e-05+0.00353628j -3.21540237e-03+0.j        ]]\" (item) at location <HDF5 group \"/least_squares\" (0 members)> not supported, storing as string\n",
      "WARNING:pycqed.measurement.hdf5_data:Type \"<class 'qutip.qobj.Qobj'>\" for \"rho\" (key): \"Quantum object: dims = [[4], [4]], shape = (4, 4), type = oper, isherm = True\n",
      "Qobj data =\n",
      "[[ 5.45102554e-01+0.00000000e+00j  3.02269831e-03+4.76857885e-01j\n",
      "  -2.00208641e-02-7.09481575e-03j  5.07289173e-03-7.29795504e-03j]\n",
      " [ 3.02269831e-03-4.76857885e-01j  4.53689609e-01+0.00000000e+00j\n",
      "  -8.23820505e-03+1.84647627e-02j -4.82542455e-03-5.74488135e-03j]\n",
      " [-2.00208641e-02+7.09481575e-03j -8.23820505e-03-1.84647627e-02j\n",
      "   9.55532399e-04+0.00000000e+00j -2.06179009e-04+3.59203292e-04j]\n",
      " [ 5.07289173e-03+7.29795504e-03j -4.82542455e-03+5.74488135e-03j\n",
      "  -2.06179009e-04-3.59203292e-04j  2.53023094e-04+0.00000000e+00j]]\" (item) at location <HDF5 group \"/max_likelihood\" (0 members)> not supported, storing as string\n"
     ]
    },
    {
     "name": "stdout",
     "output_type": "stream",
     "text": [
      "('I', 'Y90') ['20200807_104114']\n"
     ]
    },
    {
     "name": "stderr",
     "output_type": "stream",
     "text": [
      "WARNING:pycqed.measurement.hdf5_data:Type \"<class 'qutip.qobj.Qobj'>\" for \"rho\" (key): \"Quantum object: dims = [[4], [4]], shape = (4, 4), type = oper, isherm = True\n",
      "Qobj data =\n",
      "[[ 5.50710059e-01+0.j          4.79872664e-01-0.00382843j\n",
      "  -1.24672235e-02+0.01201326j -9.11503917e-04-0.00121625j]\n",
      " [ 4.79872664e-01+0.00382843j  4.56053966e-01+0.j\n",
      "  -3.70283834e-03+0.00683601j  8.92987547e-04-0.00605803j]\n",
      " [-1.24672235e-02-0.01201326j -3.70283834e-03-0.00683601j\n",
      "  -2.99589072e-03+0.j          2.22720070e-04+0.002827j  ]\n",
      " [-9.11503917e-04+0.00121625j  8.92987547e-04+0.00605803j\n",
      "   2.22720070e-04-0.002827j   -3.76813391e-03+0.j        ]]\" (item) at location <HDF5 group \"/least_squares\" (0 members)> not supported, storing as string\n",
      "WARNING:pycqed.measurement.hdf5_data:Type \"<class 'qutip.qobj.Qobj'>\" for \"rho\" (key): \"Quantum object: dims = [[4], [4]], shape = (4, 4), type = oper, isherm = True\n",
      "Qobj data =\n",
      "[[ 5.47075505e-01+0.00000000e+00j  4.79764036e-01-2.88369305e-03j\n",
      "  -1.07004409e-02+1.06308576e-02j -4.59046820e-04-3.68267700e-03j]\n",
      " [ 4.79764036e-01+2.88369305e-03j  4.52293528e-01+0.00000000e+00j\n",
      "  -7.62166060e-03+8.41396616e-03j  4.03190610e-05-4.56592254e-03j]\n",
      " [-1.07004409e-02-1.06308576e-02j -7.62166060e-03-8.41396616e-03j\n",
      "   5.43721686e-04+0.00000000e+00j -2.11872120e-06+1.55016867e-05j]\n",
      " [-4.59046820e-04+3.68267700e-03j  4.03190610e-05+4.56592254e-03j\n",
      "  -2.11872120e-06-1.55016867e-05j  8.72921811e-05+0.00000000e+00j]]\" (item) at location <HDF5 group \"/max_likelihood\" (0 members)> not supported, storing as string\n"
     ]
    },
    {
     "name": "stdout",
     "output_type": "stream",
     "text": [
      "('I', 'X180') ['20200807_104308']\n"
     ]
    },
    {
     "name": "stderr",
     "output_type": "stream",
     "text": [
      "WARNING:pycqed.measurement.hdf5_data:Type \"<class 'qutip.qobj.Qobj'>\" for \"rho\" (key): \"Quantum object: dims = [[4], [4]], shape = (4, 4), type = oper, isherm = True\n",
      "Qobj data =\n",
      "[[ 0.10434587+0.j         -0.0153202 -0.01098655j -0.00354223-0.00035827j\n",
      "   0.00135616+0.00412447j]\n",
      " [-0.0153202 +0.01098655j  0.90149661+0.j          0.00249088+0.03156796j\n",
      "  -0.00163542-0.00646654j]\n",
      " [-0.00354223+0.00035827j  0.00249088-0.03156796j -0.00377037+0.j\n",
      "  -0.00152343-0.00056868j]\n",
      " [ 0.00135616-0.00412447j -0.00163542+0.00646654j -0.00152343+0.00056868j\n",
      "  -0.00207212+0.j        ]]\" (item) at location <HDF5 group \"/least_squares\" (0 members)> not supported, storing as string\n",
      "WARNING:pycqed.measurement.hdf5_data:Type \"<class 'qutip.qobj.Qobj'>\" for \"rho\" (key): \"Quantum object: dims = [[4], [4]], shape = (4, 4), type = oper, isherm = True\n",
      "Qobj data =\n",
      "[[ 1.00401618e-01+0.00000000e+00j -1.60642994e-02-1.14251937e-02j\n",
      "  -2.72116727e-03-4.88113885e-04j  8.47214309e-04+2.51598598e-03j]\n",
      " [-1.60642994e-02+1.14251937e-02j  8.98451610e-01+0.00000000e+00j\n",
      "   2.43094338e-03+2.89540825e-02j -1.96097026e-03-6.37847887e-03j]\n",
      " [-2.72116727e-03+4.88113885e-04j  2.43094338e-03-2.89540825e-02j\n",
      "   1.03272338e-03+0.00000000e+00j -2.36524131e-04-2.70169064e-05j]\n",
      " [ 8.47214309e-04-2.51598598e-03j -1.96097026e-03+6.37847887e-03j\n",
      "  -2.36524131e-04+2.70169064e-05j  1.14128280e-04+0.00000000e+00j]]\" (item) at location <HDF5 group \"/max_likelihood\" (0 members)> not supported, storing as string\n"
     ]
    },
    {
     "name": "stdout",
     "output_type": "stream",
     "text": [
      "('X90', 'I') ['20200807_104500']\n"
     ]
    },
    {
     "name": "stderr",
     "output_type": "stream",
     "text": [
      "WARNING:pycqed.measurement.hdf5_data:Type \"<class 'qutip.qobj.Qobj'>\" for \"rho\" (key): \"Quantum object: dims = [[4], [4]], shape = (4, 4), type = oper, isherm = True\n",
      "Qobj data =\n",
      "[[ 0.55470757+0.j         -0.01904616+0.0049499j  -0.0450634 +0.48430698j\n",
      "   0.00652395-0.00243754j]\n",
      " [-0.01904616-0.0049499j  -0.00180089+0.j          0.00493032-0.01547048j\n",
      "  -0.00339425+0.00079896j]\n",
      " [-0.0450634 -0.48430698j  0.00493032+0.01547048j  0.44956348+0.j\n",
      "   0.00138099-0.00092078j]\n",
      " [ 0.00652395+0.00243754j -0.00339425-0.00079896j  0.00138099+0.00092078j\n",
      "  -0.00247016+0.j        ]]\" (item) at location <HDF5 group \"/least_squares\" (0 members)> not supported, storing as string\n",
      "WARNING:pycqed.measurement.hdf5_data:Type \"<class 'qutip.qobj.Qobj'>\" for \"rho\" (key): \"Quantum object: dims = [[4], [4]], shape = (4, 4), type = oper, isherm = True\n",
      "Qobj data =\n",
      "[[ 5.52251744e-01+0.00000000e+00j -1.82183122e-02+4.94040613e-03j\n",
      "  -4.65259698e-02+4.84618867e-01j  3.71903613e-03-5.41117498e-04j]\n",
      " [-1.82183122e-02-4.94040613e-03j  6.45429219e-04+0.00000000e+00j\n",
      "   5.86477866e-03-1.55669694e-02j -1.28181630e-04-1.54830470e-05j]\n",
      " [-4.65259698e-02-4.84618867e-01j  5.86477866e-03+1.55669694e-02j\n",
      "   4.46918398e-01+0.00000000e+00j  2.61747436e-04-1.90741282e-03j]\n",
      " [ 3.71903613e-03+5.41117498e-04j -1.28181630e-04+1.54830470e-05j\n",
      "   2.61747436e-04+1.90741282e-03j  1.84678564e-04+0.00000000e+00j]]\" (item) at location <HDF5 group \"/max_likelihood\" (0 members)> not supported, storing as string\n"
     ]
    },
    {
     "name": "stdout",
     "output_type": "stream",
     "text": [
      "('X90', 'X90') ['20200807_104653']\n"
     ]
    },
    {
     "name": "stderr",
     "output_type": "stream",
     "text": [
      "WARNING:pycqed.measurement.hdf5_data:Type \"<class 'qutip.qobj.Qobj'>\" for \"rho\" (key): \"Quantum object: dims = [[4], [4]], shape = (4, 4), type = oper, isherm = True\n",
      "Qobj data =\n",
      "[[ 0.30266931+0.j         -0.00760667+0.24325943j -0.01186607+0.23989377j\n",
      "   0.23593019+0.00586504j]\n",
      " [-0.00760667-0.24325943j  0.23408573+0.j          0.22921602+0.03306617j\n",
      "   0.00705749-0.22614327j]\n",
      " [-0.01186607-0.23989377j  0.22921602-0.03306617j  0.24105328+0.j\n",
      "  -0.0068314 -0.22307826j]\n",
      " [ 0.23593019-0.00586504j  0.00705749+0.22614327j -0.0068314 +0.22307826j\n",
      "   0.22219168+0.j        ]]\" (item) at location <HDF5 group \"/least_squares\" (0 members)> not supported, storing as string\n",
      "WARNING:pycqed.measurement.hdf5_data:Type \"<class 'qutip.qobj.Qobj'>\" for \"rho\" (key): \"Quantum object: dims = [[4], [4]], shape = (4, 4), type = oper, isherm = True\n",
      "Qobj data =\n",
      "[[ 0.30190116+0.j         -0.00637505+0.24281842j -0.01267244+0.2387268j\n",
      "   0.2372213 +0.00669462j]\n",
      " [-0.00637505-0.24281842j  0.23491785+0.j          0.22713691+0.02738238j\n",
      "   0.00844698-0.22380004j]\n",
      " [-0.01267244-0.2387268j   0.22713691-0.02738238j  0.24119785+0.j\n",
      "  -0.00871442-0.22271862j]\n",
      " [ 0.2372213 -0.00669462j  0.00844698+0.22380004j -0.00871442+0.22271862j\n",
      "   0.22198369+0.j        ]]\" (item) at location <HDF5 group \"/max_likelihood\" (0 members)> not supported, storing as string\n"
     ]
    },
    {
     "name": "stdout",
     "output_type": "stream",
     "text": [
      "('X90', 'Y90') ['20200807_104847']\n"
     ]
    },
    {
     "name": "stderr",
     "output_type": "stream",
     "text": [
      "WARNING:pycqed.measurement.hdf5_data:Type \"<class 'qutip.qobj.Qobj'>\" for \"rho\" (key): \"Quantum object: dims = [[4], [4]], shape = (4, 4), type = oper, isherm = True\n",
      "Qobj data =\n",
      "[[ 0.29994709+0.j          0.23391778-0.0024263j  -0.01174469+0.2420361j\n",
      "   0.01861088-0.2341493j ]\n",
      " [ 0.23391778+0.0024263j   0.22863921+0.j         -0.01550433+0.22947291j\n",
      "   0.01676686-0.21592486j]\n",
      " [-0.01174469-0.2420361j  -0.01550433-0.22947291j  0.25725219+0.j\n",
      "  -0.23059016+0.00538881j]\n",
      " [ 0.01861088+0.2341493j   0.01676686+0.21592486j -0.23059016-0.00538881j\n",
      "   0.21416151+0.j        ]]\" (item) at location <HDF5 group \"/least_squares\" (0 members)> not supported, storing as string\n",
      "WARNING:pycqed.measurement.hdf5_data:Type \"<class 'qutip.qobj.Qobj'>\" for \"rho\" (key): \"Quantum object: dims = [[4], [4]], shape = (4, 4), type = oper, isherm = True\n",
      "Qobj data =\n",
      "[[ 0.29985407+0.j          0.23384376-0.00230965j -0.01177094+0.24194238j\n",
      "   0.01813972-0.23360587j]\n",
      " [ 0.23384376+0.00230965j  0.22849021+0.j         -0.01624748+0.22957305j\n",
      "   0.01648126-0.2155522j ]\n",
      " [-0.01177094-0.24194238j -0.01624748-0.22957305j  0.25717789+0.j\n",
      "  -0.23006676+0.00495122j]\n",
      " [ 0.01813972+0.23360587j  0.01648126+0.2155522j  -0.23006676-0.00495122j\n",
      "   0.21447827+0.j        ]]\" (item) at location <HDF5 group \"/max_likelihood\" (0 members)> not supported, storing as string\n"
     ]
    },
    {
     "name": "stdout",
     "output_type": "stream",
     "text": [
      "('X90', 'X180') ['20200807_105040']\n"
     ]
    },
    {
     "name": "stderr",
     "output_type": "stream",
     "text": [
      "WARNING:pycqed.measurement.hdf5_data:Type \"<class 'qutip.qobj.Qobj'>\" for \"rho\" (key): \"Quantum object: dims = [[4], [4]], shape = (4, 4), type = oper, isherm = True\n",
      "Qobj data =\n",
      "[[ 0.04844362+0.j         -0.0028229 -0.00567755j  0.0060842 +0.00645409j\n",
      "  -0.01482116+0.00486602j]\n",
      " [-0.0028229 +0.00567755j  0.47952507+0.j          0.00578665+0.01558848j\n",
      "   0.0230136 -0.44479469j]\n",
      " [ 0.0060842 -0.00645409j  0.00578665-0.01558848j  0.03881144+0.j\n",
      "  -0.0113968 -0.00312487j]\n",
      " [-0.01482116-0.00486602j  0.0230136 +0.44479469j -0.0113968 +0.00312487j\n",
      "   0.43321986+0.j        ]]\" (item) at location <HDF5 group \"/least_squares\" (0 members)> not supported, storing as string\n",
      "WARNING:pycqed.measurement.hdf5_data:Type \"<class 'qutip.qobj.Qobj'>\" for \"rho\" (key): \"Quantum object: dims = [[4], [4]], shape = (4, 4), type = oper, isherm = True\n",
      "Qobj data =\n",
      "[[ 0.04844362+0.j         -0.0028229 -0.00567755j  0.0060842 +0.00645409j\n",
      "  -0.01482116+0.00486602j]\n",
      " [-0.0028229 +0.00567755j  0.47952507+0.j          0.00578665+0.01558848j\n",
      "   0.0230136 -0.44479469j]\n",
      " [ 0.0060842 -0.00645409j  0.00578665-0.01558848j  0.03881144+0.j\n",
      "  -0.0113968 -0.00312487j]\n",
      " [-0.01482116-0.00486602j  0.0230136 +0.44479469j -0.0113968 +0.00312487j\n",
      "   0.43321986+0.j        ]]\" (item) at location <HDF5 group \"/max_likelihood\" (0 members)> not supported, storing as string\n"
     ]
    },
    {
     "name": "stdout",
     "output_type": "stream",
     "text": [
      "('Y90', 'I') ['20200807_105231']\n"
     ]
    },
    {
     "name": "stderr",
     "output_type": "stream",
     "text": [
      "WARNING:pycqed.measurement.hdf5_data:Type \"<class 'qutip.qobj.Qobj'>\" for \"rho\" (key): \"Quantum object: dims = [[4], [4]], shape = (4, 4), type = oper, isherm = True\n",
      "Qobj data =\n",
      "[[ 0.54846903+0.j          0.00774834+0.01678014j  0.48362356+0.03000126j\n",
      "   0.0072138 -0.00558736j]\n",
      " [ 0.00774834-0.01678014j -0.00340748+0.j          0.0105636 -0.01448532j\n",
      "   0.00057218+0.00306951j]\n",
      " [ 0.48362356-0.03000126j  0.0105636 +0.01448532j  0.45798787+0.j\n",
      "   0.00380645-0.00396095j]\n",
      " [ 0.0072138 +0.00558736j  0.00057218-0.00306951j  0.00380645+0.00396095j\n",
      "  -0.00304943+0.j        ]]\" (item) at location <HDF5 group \"/least_squares\" (0 members)> not supported, storing as string\n",
      "WARNING:pycqed.measurement.hdf5_data:Type \"<class 'qutip.qobj.Qobj'>\" for \"rho\" (key): \"Quantum object: dims = [[4], [4]], shape = (4, 4), type = oper, isherm = True\n",
      "Qobj data =\n",
      "[[ 5.44712882e-01+0.j          8.02231084e-03+0.01634104j\n",
      "   4.83812609e-01+0.03128163j  5.39932654e-03-0.00448808j]\n",
      " [ 8.02231084e-03-0.01634104j  6.10954957e-04+0.j\n",
      "   8.12610174e-03-0.01406062j -5.60586485e-05-0.00022682j]\n",
      " [ 4.83812609e-01-0.03128163j  8.12610174e-03+0.01406062j\n",
      "   4.54572838e-01+0.j          4.07178017e-03-0.00401908j]\n",
      " [ 5.39932654e-03+0.00448808j -5.60586485e-05+0.00022682j\n",
      "   4.07178017e-03+0.00401908j  1.03334299e-04+0.j        ]]\" (item) at location <HDF5 group \"/max_likelihood\" (0 members)> not supported, storing as string\n"
     ]
    },
    {
     "name": "stdout",
     "output_type": "stream",
     "text": [
      "('Y90', 'X90') ['20200807_105423']\n"
     ]
    },
    {
     "name": "stderr",
     "output_type": "stream",
     "text": [
      "WARNING:pycqed.measurement.hdf5_data:Type \"<class 'qutip.qobj.Qobj'>\" for \"rho\" (key): \"Quantum object: dims = [[4], [4]], shape = (4, 4), type = oper, isherm = True\n",
      "Qobj data =\n",
      "[[ 0.29909239+0.j          0.00060898+0.24930982j  0.24364806+0.00794999j\n",
      "   0.03067418-0.2316083j ]\n",
      " [ 0.00060898-0.24930982j  0.25476538+0.j          0.02396345-0.21794047j\n",
      "  -0.22835929-0.0241087j ]\n",
      " [ 0.24364806-0.00794999j  0.02396345+0.21794047j  0.23371926+0.j\n",
      "   0.01236862-0.21703922j]\n",
      " [ 0.03067418+0.2316083j  -0.22835929+0.0241087j   0.01236862+0.21703922j\n",
      "   0.21242297+0.j        ]]\" (item) at location <HDF5 group \"/least_squares\" (0 members)> not supported, storing as string\n",
      "WARNING:pycqed.measurement.hdf5_data:Type \"<class 'qutip.qobj.Qobj'>\" for \"rho\" (key): \"Quantum object: dims = [[4], [4]], shape = (4, 4), type = oper, isherm = True\n",
      "Qobj data =\n",
      "[[ 0.29867541+0.j          0.00063299+0.24838642j  0.24271726+0.0085324j\n",
      "   0.02939364-0.23254136j]\n",
      " [ 0.00063299-0.24838642j  0.25460867+0.j          0.02164381-0.22026781j\n",
      "  -0.22611623-0.02512684j]\n",
      " [ 0.24271726-0.0085324j   0.02164381+0.22026781j  0.23343679+0.j\n",
      "   0.01165537-0.21497968j]\n",
      " [ 0.02939364+0.23254136j -0.22611623+0.02512684j  0.01165537+0.21497968j\n",
      "   0.21327961+0.j        ]]\" (item) at location <HDF5 group \"/max_likelihood\" (0 members)> not supported, storing as string\n"
     ]
    },
    {
     "name": "stdout",
     "output_type": "stream",
     "text": [
      "('Y90', 'Y90') ['20200807_105615']\n"
     ]
    },
    {
     "name": "stderr",
     "output_type": "stream",
     "text": [
      "WARNING:pycqed.measurement.hdf5_data:Type \"<class 'qutip.qobj.Qobj'>\" for \"rho\" (key): \"Quantum object: dims = [[4], [4]], shape = (4, 4), type = oper, isherm = True\n",
      "Qobj data =\n",
      "[[ 0.30010471+0.j          0.24299212+0.00862481j  0.2419006 +0.01538548j\n",
      "  -0.23707917-0.02767113j]\n",
      " [ 0.24299212-0.00862481j  0.2399072 +0.j          0.22230484+0.02454923j\n",
      "  -0.22108953-0.01422154j]\n",
      " [ 0.2419006 -0.01538548j  0.22230484-0.02454923j  0.24175444+0.j\n",
      "  -0.22113282+0.00597081j]\n",
      " [-0.23707917+0.02767113j -0.22108953+0.01422154j -0.22113282-0.00597081j\n",
      "   0.21823365+0.j        ]]\" (item) at location <HDF5 group \"/least_squares\" (0 members)> not supported, storing as string\n",
      "WARNING:pycqed.measurement.hdf5_data:Type \"<class 'qutip.qobj.Qobj'>\" for \"rho\" (key): \"Quantum object: dims = [[4], [4]], shape = (4, 4), type = oper, isherm = True\n",
      "Qobj data =\n",
      "[[ 0.30010471+0.j          0.24299212+0.00862481j  0.2419006 +0.01538548j\n",
      "  -0.23707917-0.02767113j]\n",
      " [ 0.24299212-0.00862481j  0.2399072 +0.j          0.22230484+0.02454923j\n",
      "  -0.22108953-0.01422154j]\n",
      " [ 0.2419006 -0.01538548j  0.22230484-0.02454923j  0.24175444+0.j\n",
      "  -0.22113282+0.00597081j]\n",
      " [-0.23707917+0.02767113j -0.22108953+0.01422154j -0.22113282-0.00597081j\n",
      "   0.21823365+0.j        ]]\" (item) at location <HDF5 group \"/max_likelihood\" (0 members)> not supported, storing as string\n"
     ]
    },
    {
     "name": "stdout",
     "output_type": "stream",
     "text": [
      "('Y90', 'X180') ['20200807_105807']\n"
     ]
    },
    {
     "name": "stderr",
     "output_type": "stream",
     "text": [
      "WARNING:pycqed.measurement.hdf5_data:Type \"<class 'qutip.qobj.Qobj'>\" for \"rho\" (key): \"Quantum object: dims = [[4], [4]], shape = (4, 4), type = oper, isherm = True\n",
      "Qobj data =\n",
      "[[ 0.05326567+0.j         -0.00381086-0.00136619j  0.00528809-0.01058407j\n",
      "   0.00567848+0.01002833j]\n",
      " [-0.00381086+0.00136619j  0.48200033+0.j         -0.00180998+0.02837493j\n",
      "  -0.43865357-0.04400096j]\n",
      " [ 0.00528809+0.01058407j -0.00180998-0.02837493j  0.03433325+0.j\n",
      "   0.0026769 +0.0129067j ]\n",
      " [ 0.00567848-0.01002833j -0.43865357+0.04400096j  0.0026769 -0.0129067j\n",
      "   0.43040076+0.j        ]]\" (item) at location <HDF5 group \"/least_squares\" (0 members)> not supported, storing as string\n",
      "WARNING:pycqed.measurement.hdf5_data:Type \"<class 'qutip.qobj.Qobj'>\" for \"rho\" (key): \"Quantum object: dims = [[4], [4]], shape = (4, 4), type = oper, isherm = True\n",
      "Qobj data =\n",
      "[[ 0.05326567+0.j         -0.00381086-0.00136619j  0.00528809-0.01058407j\n",
      "   0.00567848+0.01002833j]\n",
      " [-0.00381086+0.00136619j  0.48200033+0.j         -0.00180998+0.02837493j\n",
      "  -0.43865357-0.04400096j]\n",
      " [ 0.00528809+0.01058407j -0.00180998-0.02837493j  0.03433325+0.j\n",
      "   0.0026769 +0.0129067j ]\n",
      " [ 0.00567848-0.01002833j -0.43865357+0.04400096j  0.0026769 -0.0129067j\n",
      "   0.43040076+0.j        ]]\" (item) at location <HDF5 group \"/max_likelihood\" (0 members)> not supported, storing as string\n"
     ]
    },
    {
     "name": "stdout",
     "output_type": "stream",
     "text": [
      "('X180', 'I') ['20200807_105957']\n"
     ]
    },
    {
     "name": "stderr",
     "output_type": "stream",
     "text": [
      "WARNING:pycqed.measurement.hdf5_data:Type \"<class 'qutip.qobj.Qobj'>\" for \"rho\" (key): \"Quantum object: dims = [[4], [4]], shape = (4, 4), type = oper, isherm = True\n",
      "Qobj data =\n",
      "[[ 6.85046820e-02+0.j          1.54528839e-03+0.00423775j\n",
      "  -8.37716469e-04+0.02225725j -9.25180344e-03+0.00377608j]\n",
      " [ 1.54528839e-03-0.00423775j -2.73502831e-03+0.j\n",
      "   4.29261865e-03-0.03037129j  4.48528825e-04-0.00102341j]\n",
      " [-8.37716469e-04-0.02225725j  4.29261865e-03+0.03037129j\n",
      "   9.39546228e-01+0.j          6.78931205e-03+0.00654011j]\n",
      " [-9.25180344e-03-0.00377608j  4.48528825e-04+0.00102341j\n",
      "   6.78931205e-03-0.00654011j -5.31588218e-03+0.j        ]]\" (item) at location <HDF5 group \"/least_squares\" (0 members)> not supported, storing as string\n",
      "WARNING:pycqed.measurement.hdf5_data:Type \"<class 'qutip.qobj.Qobj'>\" for \"rho\" (key): \"Quantum object: dims = [[4], [4]], shape = (4, 4), type = oper, isherm = True\n",
      "Qobj data =\n",
      "[[ 6.41046555e-02+0.00000000e+00j  8.81141304e-04+2.92386518e-03j\n",
      "  -7.33745051e-04+2.17578463e-02j -4.00333922e-03+1.76906565e-03j]\n",
      " [ 8.81141304e-04-2.92386518e-03j  1.04575551e-03+0.00000000e+00j\n",
      "   4.57840369e-03-2.80229512e-02j  2.17526101e-04+3.75352890e-05j]\n",
      " [-7.33745051e-04-2.17578463e-02j  4.57840369e-03+2.80229512e-02j\n",
      "   9.34476736e-01+0.00000000e+00j  6.89252768e-03+6.82986808e-03j]\n",
      " [-4.00333922e-03-1.76906565e-03j  2.17526101e-04-3.75352890e-05j\n",
      "   6.89252768e-03-6.82986808e-03j  3.73455817e-04+0.00000000e+00j]]\" (item) at location <HDF5 group \"/max_likelihood\" (0 members)> not supported, storing as string\n"
     ]
    },
    {
     "name": "stdout",
     "output_type": "stream",
     "text": [
      "('X180', 'X90') ['20200807_110203']\n"
     ]
    },
    {
     "name": "stderr",
     "output_type": "stream",
     "text": [
      "WARNING:pycqed.measurement.hdf5_data:Type \"<class 'qutip.qobj.Qobj'>\" for \"rho\" (key): \"Quantum object: dims = [[4], [4]], shape = (4, 4), type = oper, isherm = True\n",
      "Qobj data =\n",
      "[[ 0.03677263+0.00000000e+00j -0.00323174+2.04627707e-04j\n",
      "   0.01458971+7.22556768e-03j  0.01150858-4.01122028e-03j]\n",
      " [-0.00323174-2.04627707e-04j  0.02702167+0.00000000e+00j\n",
      "   0.00477533-5.51381676e-03j -0.00982442-7.45638074e-03j]\n",
      " [ 0.01458971-7.22556768e-03j  0.00477533+5.51381676e-03j\n",
      "   0.50514933+0.00000000e+00j  0.00735136-4.50638081e-01j]\n",
      " [ 0.01150858+4.01122028e-03j -0.00982442+7.45638074e-03j\n",
      "   0.00735136+4.50638081e-01j  0.43105637+0.00000000e+00j]]\" (item) at location <HDF5 group \"/least_squares\" (0 members)> not supported, storing as string\n",
      "WARNING:pycqed.measurement.hdf5_data:Type \"<class 'qutip.qobj.Qobj'>\" for \"rho\" (key): \"Quantum object: dims = [[4], [4]], shape = (4, 4), type = oper, isherm = True\n",
      "Qobj data =\n",
      "[[ 0.03677263+0.00000000e+00j -0.00323174+2.04627707e-04j\n",
      "   0.01458971+7.22556768e-03j  0.01150858-4.01122028e-03j]\n",
      " [-0.00323174-2.04627707e-04j  0.02702167+0.00000000e+00j\n",
      "   0.00477533-5.51381676e-03j -0.00982442-7.45638074e-03j]\n",
      " [ 0.01458971-7.22556768e-03j  0.00477533+5.51381676e-03j\n",
      "   0.50514934+0.00000000e+00j  0.00735136-4.50638081e-01j]\n",
      " [ 0.01150858+4.01122028e-03j -0.00982442+7.45638074e-03j\n",
      "   0.00735136+4.50638081e-01j  0.43105637+0.00000000e+00j]]\" (item) at location <HDF5 group \"/max_likelihood\" (0 members)> not supported, storing as string\n"
     ]
    },
    {
     "name": "stdout",
     "output_type": "stream",
     "text": [
      "('X180', 'Y90') ['20200807_110352']\n"
     ]
    },
    {
     "name": "stderr",
     "output_type": "stream",
     "text": [
      "WARNING:pycqed.measurement.hdf5_data:Type \"<class 'qutip.qobj.Qobj'>\" for \"rho\" (key): \"Quantum object: dims = [[4], [4]], shape = (4, 4), type = oper, isherm = True\n",
      "Qobj data =\n",
      "[[ 3.68918456e-02+0.j          8.46852023e-04+0.00170632j\n",
      "  -3.66323870e-03+0.00012147j  1.74480615e-03-0.01436251j]\n",
      " [ 8.46852023e-04-0.00170632j  1.90169848e-02+0.j\n",
      "   1.10944057e-02-0.00656055j -1.52641721e-05+0.01275845j]\n",
      " [-3.66323870e-03-0.00012147j  1.10944057e-02+0.00656055j\n",
      "   5.01994609e-01+0.j         -4.48476922e-01-0.01406778j]\n",
      " [ 1.74480615e-03+0.01436251j -1.52641721e-05-0.01275845j\n",
      "  -4.48476922e-01+0.01406778j  4.42096560e-01+0.j        ]]\" (item) at location <HDF5 group \"/least_squares\" (0 members)> not supported, storing as string\n",
      "WARNING:pycqed.measurement.hdf5_data:Type \"<class 'qutip.qobj.Qobj'>\" for \"rho\" (key): \"Quantum object: dims = [[4], [4]], shape = (4, 4), type = oper, isherm = True\n",
      "Qobj data =\n",
      "[[ 3.68918466e-02+0.j          8.46852023e-04+0.00170632j\n",
      "  -3.66323870e-03+0.00012147j  1.74480615e-03-0.01436251j]\n",
      " [ 8.46852023e-04-0.00170632j  1.90169858e-02+0.j\n",
      "   1.10944057e-02-0.00656055j -1.52641721e-05+0.01275845j]\n",
      " [-3.66323870e-03-0.00012147j  1.10944057e-02+0.00656055j\n",
      "   5.01994610e-01+0.j         -4.48476922e-01-0.01406778j]\n",
      " [ 1.74480615e-03+0.01436251j -1.52641721e-05-0.01275845j\n",
      "  -4.48476922e-01+0.01406778j  4.42096561e-01+0.j        ]]\" (item) at location <HDF5 group \"/max_likelihood\" (0 members)> not supported, storing as string\n"
     ]
    },
    {
     "name": "stdout",
     "output_type": "stream",
     "text": [
      "('X180', 'X180') ['20200807_110543']\n"
     ]
    },
    {
     "name": "stderr",
     "output_type": "stream",
     "text": [
      "WARNING:pycqed.measurement.hdf5_data:Type \"<class 'qutip.qobj.Qobj'>\" for \"rho\" (key): \"Quantum object: dims = [[4], [4]], shape = (4, 4), type = oper, isherm = True\n",
      "Qobj data =\n",
      "[[ 6.31429148e-03+0.j          1.64671060e-03+0.00097609j\n",
      "   4.19653512e-03+0.00388689j -5.18279472e-03+0.00267608j]\n",
      " [ 1.64671060e-03-0.00097609j  4.26051351e-02+0.j\n",
      "   4.48274108e-03+0.01448416j  1.16972694e-02-0.00949973j]\n",
      " [ 4.19653512e-03-0.00388689j  4.48274108e-03-0.01448416j\n",
      "   7.60497544e-02+0.j          1.89087245e-04+0.00224756j]\n",
      " [-5.18279472e-03-0.00267608j  1.16972694e-02+0.00949973j\n",
      "   1.89087245e-04-0.00224756j  8.75030819e-01+0.j        ]]\" (item) at location <HDF5 group \"/least_squares\" (0 members)> not supported, storing as string\n",
      "WARNING:pycqed.measurement.hdf5_data:Type \"<class 'qutip.qobj.Qobj'>\" for \"rho\" (key): \"Quantum object: dims = [[4], [4]], shape = (4, 4), type = oper, isherm = True\n",
      "Qobj data =\n",
      "[[ 6.31429248e-03+0.j          1.64671060e-03+0.00097609j\n",
      "   4.19653512e-03+0.00388689j -5.18279472e-03+0.00267608j]\n",
      " [ 1.64671060e-03-0.00097609j  4.26051361e-02+0.j\n",
      "   4.48274108e-03+0.01448416j  1.16972694e-02-0.00949973j]\n",
      " [ 4.19653512e-03-0.00388689j  4.48274108e-03-0.01448416j\n",
      "   7.60497554e-02+0.j          1.89087245e-04+0.00224756j]\n",
      " [-5.18279472e-03-0.00267608j  1.16972694e-02+0.00949973j\n",
      "   1.89087245e-04-0.00224756j  8.75030820e-01+0.j        ]]\" (item) at location <HDF5 group \"/max_likelihood\" (0 members)> not supported, storing as string\n"
     ]
    },
    {
     "name": "stdout",
     "output_type": "stream",
     "text": [
      "Total time:  74.1530613899231\n"
     ]
    }
   ],
   "source": [
    "t0 = time.time()\n",
    "t_start = '20200807_103733'\n",
    "t_end = '20200807_110543'\n",
    "meas_obj_names = ['qb6', 'qb5']\n",
    "meas_obj_value_names_map = {'qb6': ['UHF1_raw w6 UHF1'], 'qb5': ['UHF1_raw w4 UHF1']}\n",
    "\n",
    "basis_rots = ('I', 'X90', 'Y90', 'X180')\n",
    "prep_pulses_list = list(itertools.product(basis_rots, repeat=len(meas_obj_names)))\n",
    "estimation_types=('least_squares', 'max_likelihood')\n",
    "\n",
    "cal_states = cp_mod.CalibrationPoints.guess_cal_states('auto')\n",
    "cp = cp_mod.CalibrationPoints.multi_qubit(meas_obj_names, cal_states, n_per_state=2)\n",
    "params_dict = {f'{qbn}.acq_classifier_params': f'Instrument settings.{qbn}.acq_classifier_params' \n",
    "               for qbn in meas_obj_names}\n",
    "\n",
    "data_dict_all = {}\n",
    "for prep_pulses in prep_pulses_list:\n",
    "    rho_target = qtp.Qobj((UCZ * qtp.tensor(U1s[prep_pulses[0]], U1s[prep_pulses[1]]) * \n",
    "              qtp.tensor(qtp.basis(2), qtp.basis(2))).full())  \n",
    "    pp = pp_mod.ProcessingPipeline()\n",
    "    pp.add_node('threshold_data', keys_in='raw', meas_obj_names=meas_obj_names)\n",
    "    pp.add_node('state_tomography_analysis', keys_in='previous threshold_data', meas_obj_names=meas_obj_names,\n",
    "                joint_processing=True, basis_rots=basis_rots, do_preselection=True,\n",
    "                rho_target=rho_target, estimation_types=estimation_types)     \n",
    "\n",
    "    data_dict = {'meas_obj_value_names_map': meas_obj_value_names_map,\n",
    "                 'cal_points': repr(cp),\n",
    "                 'preparation_params': {'preparation_type': 'preselection'}}\n",
    "    data_dict = dat_extr_mod.extract_data_hdf(t_start=t_start, t_stop=t_end, label=''.join(prep_pulses),\n",
    "                                              data_dict=data_dict, params_dict=params_dict)\n",
    "    \n",
    "    print(prep_pulses, data_dict['timestamps'])\n",
    "    pla.process_pipeline(data_dict, processing_pipeline=pp, save_figures=True, save_processed_data=True)  \n",
    "    data_dict_all[''.join(prep_pulses)] = data_dict\n",
    "print('Total time: ', time.time() - t0)    "
   ]
  },
  {
   "cell_type": "markdown",
   "metadata": {},
   "source": [
    "Process tomo analysis from state tomo analyses (run previous cell)"
   ]
  },
  {
   "cell_type": "code",
   "execution_count": 36,
   "metadata": {},
   "outputs": [],
   "source": [
    "reload_anav3()"
   ]
  },
  {
   "cell_type": "code",
   "execution_count": 19,
   "metadata": {
    "scrolled": true
   },
   "outputs": [
    {
     "name": "stderr",
     "output_type": "stream",
     "text": [
      "WARNING:pycqed.analysis_v3.pipeline_analysis:Processing pipeline may not have been resolved.\n",
      "WARNING:pycqed.measurement.hdf5_data:Type \"<class 'qutip.qobj.Qobj'>\" for \"rho\" (key): \"Quantum object: dims = [[4], [4]], shape = (4, 4), type = oper, isherm = True\n",
      "Qobj data =\n",
      "[[ 1.01216098e+00+0.j          6.45795680e-03+0.00546935j\n",
      "  -7.10868647e-03-0.00852296j  5.03465629e-04+0.0039615j ]\n",
      " [ 6.45795680e-03-0.00546935j -4.92202514e-03+0.j\n",
      "  -4.03956853e-03-0.0020252j  -1.32345386e-03-0.00063475j]\n",
      " [-7.10868647e-03+0.00852296j -4.03956853e-03+0.0020252j\n",
      "  -4.04793618e-03+0.j          1.40058843e-03+0.00088892j]\n",
      " [ 5.03465629e-04-0.0039615j  -1.32345386e-03+0.00063475j\n",
      "   1.40058843e-03-0.00088892j -3.19102148e-03+0.j        ]]\" (item) at location <HDF5 group \"/II/least_squares\" (0 members)> not supported, storing as string\n",
      "WARNING:pycqed.measurement.hdf5_data:Type \"<class 'qutip.qobj.Qobj'>\" for \"rho\" (key): \"Quantum object: dims = [[4], [4]], shape = (4, 4), type = oper, isherm = True\n",
      "Qobj data =\n",
      "[[ 9.99787265e-01+0.00000000e+00j  6.60355939e-03+5.44160773e-03j\n",
      "  -7.44834859e-03-8.51502118e-03j  4.34191290e-04+3.43133788e-03j]\n",
      " [ 6.60355939e-03-5.44160773e-03j  7.32337577e-05+0.00000000e+00j\n",
      "  -9.55426165e-05-1.57023856e-05j  2.15438958e-05+2.03010250e-05j]\n",
      " [-7.44834859e-03+8.51502118e-03j -9.55426165e-05+1.57023856e-05j\n",
      "   1.28042403e-04+0.00000000e+00j -3.24718523e-05-2.18297829e-05j]\n",
      " [ 4.34191290e-04-3.43133788e-03j  2.15438958e-05-2.03010250e-05j\n",
      "  -3.24718523e-05+2.18297829e-05j  1.21530465e-05+0.00000000e+00j]]\" (item) at location <HDF5 group \"/II/max_likelihood\" (0 members)> not supported, storing as string\n",
      "WARNING:pycqed.measurement.hdf5_data:Type \"<class 'qutip.qobj.Qobj'>\" for \"rho\" (key): \"Quantum object: dims = [[4], [4]], shape = (4, 4), type = oper, isherm = True\n",
      "Qobj data =\n",
      "[[ 5.49723743e-01+0.j          3.11494468e-03+0.47856572j\n",
      "  -2.11716201e-02-0.00551653j  3.07858063e-03-0.01145445j]\n",
      " [ 3.11494468e-03-0.47856572j  4.57684697e-01+0.j\n",
      "  -1.33581601e-02+0.02053924j -3.59689115e-03-0.00744189j]\n",
      " [-2.11716201e-02+0.00551653j -1.33581601e-02-0.02053924j\n",
      "  -4.19303734e-03+0.j         -3.34675192e-05-0.00353628j]\n",
      " [ 3.07858063e-03+0.01145445j -3.59689115e-03+0.00744189j\n",
      "  -3.34675192e-05+0.00353628j -3.21540237e-03+0.j        ]]\" (item) at location <HDF5 group \"/IX90/least_squares\" (0 members)> not supported, storing as string\n",
      "WARNING:pycqed.measurement.hdf5_data:Type \"<class 'qutip.qobj.Qobj'>\" for \"rho\" (key): \"Quantum object: dims = [[4], [4]], shape = (4, 4), type = oper, isherm = True\n",
      "Qobj data =\n",
      "[[ 5.45102554e-01+0.00000000e+00j  3.02269831e-03+4.76857885e-01j\n",
      "  -2.00208641e-02-7.09481575e-03j  5.07289173e-03-7.29795504e-03j]\n",
      " [ 3.02269831e-03-4.76857885e-01j  4.53689609e-01+0.00000000e+00j\n",
      "  -8.23820505e-03+1.84647627e-02j -4.82542455e-03-5.74488135e-03j]\n",
      " [-2.00208641e-02+7.09481575e-03j -8.23820505e-03-1.84647627e-02j\n",
      "   9.55532399e-04+0.00000000e+00j -2.06179009e-04+3.59203292e-04j]\n",
      " [ 5.07289173e-03+7.29795504e-03j -4.82542455e-03+5.74488135e-03j\n",
      "  -2.06179009e-04-3.59203292e-04j  2.53023094e-04+0.00000000e+00j]]\" (item) at location <HDF5 group \"/IX90/max_likelihood\" (0 members)> not supported, storing as string\n",
      "WARNING:pycqed.measurement.hdf5_data:Type \"<class 'qutip.qobj.Qobj'>\" for \"rho\" (key): \"Quantum object: dims = [[4], [4]], shape = (4, 4), type = oper, isherm = True\n",
      "Qobj data =\n",
      "[[ 5.50710059e-01+0.j          4.79872664e-01-0.00382843j\n",
      "  -1.24672235e-02+0.01201326j -9.11503917e-04-0.00121625j]\n",
      " [ 4.79872664e-01+0.00382843j  4.56053966e-01+0.j\n",
      "  -3.70283834e-03+0.00683601j  8.92987547e-04-0.00605803j]\n",
      " [-1.24672235e-02-0.01201326j -3.70283834e-03-0.00683601j\n",
      "  -2.99589072e-03+0.j          2.22720070e-04+0.002827j  ]\n",
      " [-9.11503917e-04+0.00121625j  8.92987547e-04+0.00605803j\n",
      "   2.22720070e-04-0.002827j   -3.76813391e-03+0.j        ]]\" (item) at location <HDF5 group \"/IY90/least_squares\" (0 members)> not supported, storing as string\n",
      "WARNING:pycqed.measurement.hdf5_data:Type \"<class 'qutip.qobj.Qobj'>\" for \"rho\" (key): \"Quantum object: dims = [[4], [4]], shape = (4, 4), type = oper, isherm = True\n",
      "Qobj data =\n",
      "[[ 5.47075505e-01+0.00000000e+00j  4.79764036e-01-2.88369305e-03j\n",
      "  -1.07004409e-02+1.06308576e-02j -4.59046820e-04-3.68267700e-03j]\n",
      " [ 4.79764036e-01+2.88369305e-03j  4.52293528e-01+0.00000000e+00j\n",
      "  -7.62166060e-03+8.41396616e-03j  4.03190610e-05-4.56592254e-03j]\n",
      " [-1.07004409e-02-1.06308576e-02j -7.62166060e-03-8.41396616e-03j\n",
      "   5.43721686e-04+0.00000000e+00j -2.11872120e-06+1.55016867e-05j]\n",
      " [-4.59046820e-04+3.68267700e-03j  4.03190610e-05+4.56592254e-03j\n",
      "  -2.11872120e-06-1.55016867e-05j  8.72921811e-05+0.00000000e+00j]]\" (item) at location <HDF5 group \"/IY90/max_likelihood\" (0 members)> not supported, storing as string\n",
      "WARNING:pycqed.measurement.hdf5_data:Type \"<class 'qutip.qobj.Qobj'>\" for \"rho\" (key): \"Quantum object: dims = [[4], [4]], shape = (4, 4), type = oper, isherm = True\n",
      "Qobj data =\n",
      "[[ 0.10434587+0.j         -0.0153202 -0.01098655j -0.00354223-0.00035827j\n",
      "   0.00135616+0.00412447j]\n",
      " [-0.0153202 +0.01098655j  0.90149661+0.j          0.00249088+0.03156796j\n",
      "  -0.00163542-0.00646654j]\n",
      " [-0.00354223+0.00035827j  0.00249088-0.03156796j -0.00377037+0.j\n",
      "  -0.00152343-0.00056868j]\n",
      " [ 0.00135616-0.00412447j -0.00163542+0.00646654j -0.00152343+0.00056868j\n",
      "  -0.00207212+0.j        ]]\" (item) at location <HDF5 group \"/IX180/least_squares\" (0 members)> not supported, storing as string\n",
      "WARNING:pycqed.measurement.hdf5_data:Type \"<class 'qutip.qobj.Qobj'>\" for \"rho\" (key): \"Quantum object: dims = [[4], [4]], shape = (4, 4), type = oper, isherm = True\n",
      "Qobj data =\n",
      "[[ 1.00401618e-01+0.00000000e+00j -1.60642994e-02-1.14251937e-02j\n",
      "  -2.72116727e-03-4.88113885e-04j  8.47214309e-04+2.51598598e-03j]\n",
      " [-1.60642994e-02+1.14251937e-02j  8.98451610e-01+0.00000000e+00j\n",
      "   2.43094338e-03+2.89540825e-02j -1.96097026e-03-6.37847887e-03j]\n",
      " [-2.72116727e-03+4.88113885e-04j  2.43094338e-03-2.89540825e-02j\n",
      "   1.03272338e-03+0.00000000e+00j -2.36524131e-04-2.70169064e-05j]\n",
      " [ 8.47214309e-04-2.51598598e-03j -1.96097026e-03+6.37847887e-03j\n",
      "  -2.36524131e-04+2.70169064e-05j  1.14128280e-04+0.00000000e+00j]]\" (item) at location <HDF5 group \"/IX180/max_likelihood\" (0 members)> not supported, storing as string\n",
      "WARNING:pycqed.measurement.hdf5_data:Type \"<class 'qutip.qobj.Qobj'>\" for \"rho\" (key): \"Quantum object: dims = [[4], [4]], shape = (4, 4), type = oper, isherm = True\n",
      "Qobj data =\n",
      "[[ 0.55470757+0.j         -0.01904616+0.0049499j  -0.0450634 +0.48430698j\n",
      "   0.00652395-0.00243754j]\n",
      " [-0.01904616-0.0049499j  -0.00180089+0.j          0.00493032-0.01547048j\n",
      "  -0.00339425+0.00079896j]\n",
      " [-0.0450634 -0.48430698j  0.00493032+0.01547048j  0.44956348+0.j\n",
      "   0.00138099-0.00092078j]\n",
      " [ 0.00652395+0.00243754j -0.00339425-0.00079896j  0.00138099+0.00092078j\n",
      "  -0.00247016+0.j        ]]\" (item) at location <HDF5 group \"/X90I/least_squares\" (0 members)> not supported, storing as string\n",
      "WARNING:pycqed.measurement.hdf5_data:Type \"<class 'qutip.qobj.Qobj'>\" for \"rho\" (key): \"Quantum object: dims = [[4], [4]], shape = (4, 4), type = oper, isherm = True\n",
      "Qobj data =\n",
      "[[ 5.52251744e-01+0.00000000e+00j -1.82183122e-02+4.94040613e-03j\n",
      "  -4.65259698e-02+4.84618867e-01j  3.71903613e-03-5.41117498e-04j]\n",
      " [-1.82183122e-02-4.94040613e-03j  6.45429219e-04+0.00000000e+00j\n",
      "   5.86477866e-03-1.55669694e-02j -1.28181630e-04-1.54830470e-05j]\n",
      " [-4.65259698e-02-4.84618867e-01j  5.86477866e-03+1.55669694e-02j\n",
      "   4.46918398e-01+0.00000000e+00j  2.61747436e-04-1.90741282e-03j]\n",
      " [ 3.71903613e-03+5.41117498e-04j -1.28181630e-04+1.54830470e-05j\n",
      "   2.61747436e-04+1.90741282e-03j  1.84678564e-04+0.00000000e+00j]]\" (item) at location <HDF5 group \"/X90I/max_likelihood\" (0 members)> not supported, storing as string\n",
      "WARNING:pycqed.measurement.hdf5_data:Type \"<class 'qutip.qobj.Qobj'>\" for \"rho\" (key): \"Quantum object: dims = [[4], [4]], shape = (4, 4), type = oper, isherm = True\n",
      "Qobj data =\n",
      "[[ 0.30266931+0.j         -0.00760667+0.24325943j -0.01186607+0.23989377j\n",
      "   0.23593019+0.00586504j]\n",
      " [-0.00760667-0.24325943j  0.23408573+0.j          0.22921602+0.03306617j\n",
      "   0.00705749-0.22614327j]\n",
      " [-0.01186607-0.23989377j  0.22921602-0.03306617j  0.24105328+0.j\n",
      "  -0.0068314 -0.22307826j]\n",
      " [ 0.23593019-0.00586504j  0.00705749+0.22614327j -0.0068314 +0.22307826j\n",
      "   0.22219168+0.j        ]]\" (item) at location <HDF5 group \"/X90X90/least_squares\" (0 members)> not supported, storing as string\n"
     ]
    },
    {
     "name": "stderr",
     "output_type": "stream",
     "text": [
      "WARNING:pycqed.measurement.hdf5_data:Type \"<class 'qutip.qobj.Qobj'>\" for \"rho\" (key): \"Quantum object: dims = [[4], [4]], shape = (4, 4), type = oper, isherm = True\n",
      "Qobj data =\n",
      "[[ 0.30190116+0.j         -0.00637505+0.24281842j -0.01267244+0.2387268j\n",
      "   0.2372213 +0.00669462j]\n",
      " [-0.00637505-0.24281842j  0.23491785+0.j          0.22713691+0.02738238j\n",
      "   0.00844698-0.22380004j]\n",
      " [-0.01267244-0.2387268j   0.22713691-0.02738238j  0.24119785+0.j\n",
      "  -0.00871442-0.22271862j]\n",
      " [ 0.2372213 -0.00669462j  0.00844698+0.22380004j -0.00871442+0.22271862j\n",
      "   0.22198369+0.j        ]]\" (item) at location <HDF5 group \"/X90X90/max_likelihood\" (0 members)> not supported, storing as string\n",
      "WARNING:pycqed.measurement.hdf5_data:Type \"<class 'qutip.qobj.Qobj'>\" for \"rho\" (key): \"Quantum object: dims = [[4], [4]], shape = (4, 4), type = oper, isherm = True\n",
      "Qobj data =\n",
      "[[ 0.29994709+0.j          0.23391778-0.0024263j  -0.01174469+0.2420361j\n",
      "   0.01861088-0.2341493j ]\n",
      " [ 0.23391778+0.0024263j   0.22863921+0.j         -0.01550433+0.22947291j\n",
      "   0.01676686-0.21592486j]\n",
      " [-0.01174469-0.2420361j  -0.01550433-0.22947291j  0.25725219+0.j\n",
      "  -0.23059016+0.00538881j]\n",
      " [ 0.01861088+0.2341493j   0.01676686+0.21592486j -0.23059016-0.00538881j\n",
      "   0.21416151+0.j        ]]\" (item) at location <HDF5 group \"/X90Y90/least_squares\" (0 members)> not supported, storing as string\n",
      "WARNING:pycqed.measurement.hdf5_data:Type \"<class 'qutip.qobj.Qobj'>\" for \"rho\" (key): \"Quantum object: dims = [[4], [4]], shape = (4, 4), type = oper, isherm = True\n",
      "Qobj data =\n",
      "[[ 0.29985407+0.j          0.23384376-0.00230965j -0.01177094+0.24194238j\n",
      "   0.01813972-0.23360587j]\n",
      " [ 0.23384376+0.00230965j  0.22849021+0.j         -0.01624748+0.22957305j\n",
      "   0.01648126-0.2155522j ]\n",
      " [-0.01177094-0.24194238j -0.01624748-0.22957305j  0.25717789+0.j\n",
      "  -0.23006676+0.00495122j]\n",
      " [ 0.01813972+0.23360587j  0.01648126+0.2155522j  -0.23006676-0.00495122j\n",
      "   0.21447827+0.j        ]]\" (item) at location <HDF5 group \"/X90Y90/max_likelihood\" (0 members)> not supported, storing as string\n",
      "WARNING:pycqed.measurement.hdf5_data:Type \"<class 'qutip.qobj.Qobj'>\" for \"rho\" (key): \"Quantum object: dims = [[4], [4]], shape = (4, 4), type = oper, isherm = True\n",
      "Qobj data =\n",
      "[[ 0.04844362+0.j         -0.0028229 -0.00567755j  0.0060842 +0.00645409j\n",
      "  -0.01482116+0.00486602j]\n",
      " [-0.0028229 +0.00567755j  0.47952507+0.j          0.00578665+0.01558848j\n",
      "   0.0230136 -0.44479469j]\n",
      " [ 0.0060842 -0.00645409j  0.00578665-0.01558848j  0.03881144+0.j\n",
      "  -0.0113968 -0.00312487j]\n",
      " [-0.01482116-0.00486602j  0.0230136 +0.44479469j -0.0113968 +0.00312487j\n",
      "   0.43321986+0.j        ]]\" (item) at location <HDF5 group \"/X90X180/least_squares\" (0 members)> not supported, storing as string\n",
      "WARNING:pycqed.measurement.hdf5_data:Type \"<class 'qutip.qobj.Qobj'>\" for \"rho\" (key): \"Quantum object: dims = [[4], [4]], shape = (4, 4), type = oper, isherm = True\n",
      "Qobj data =\n",
      "[[ 0.04844362+0.j         -0.0028229 -0.00567755j  0.0060842 +0.00645409j\n",
      "  -0.01482116+0.00486602j]\n",
      " [-0.0028229 +0.00567755j  0.47952507+0.j          0.00578665+0.01558848j\n",
      "   0.0230136 -0.44479469j]\n",
      " [ 0.0060842 -0.00645409j  0.00578665-0.01558848j  0.03881144+0.j\n",
      "  -0.0113968 -0.00312487j]\n",
      " [-0.01482116-0.00486602j  0.0230136 +0.44479469j -0.0113968 +0.00312487j\n",
      "   0.43321986+0.j        ]]\" (item) at location <HDF5 group \"/X90X180/max_likelihood\" (0 members)> not supported, storing as string\n",
      "WARNING:pycqed.measurement.hdf5_data:Type \"<class 'qutip.qobj.Qobj'>\" for \"rho\" (key): \"Quantum object: dims = [[4], [4]], shape = (4, 4), type = oper, isherm = True\n",
      "Qobj data =\n",
      "[[ 0.54846903+0.j          0.00774834+0.01678014j  0.48362356+0.03000126j\n",
      "   0.0072138 -0.00558736j]\n",
      " [ 0.00774834-0.01678014j -0.00340748+0.j          0.0105636 -0.01448532j\n",
      "   0.00057218+0.00306951j]\n",
      " [ 0.48362356-0.03000126j  0.0105636 +0.01448532j  0.45798787+0.j\n",
      "   0.00380645-0.00396095j]\n",
      " [ 0.0072138 +0.00558736j  0.00057218-0.00306951j  0.00380645+0.00396095j\n",
      "  -0.00304943+0.j        ]]\" (item) at location <HDF5 group \"/Y90I/least_squares\" (0 members)> not supported, storing as string\n",
      "WARNING:pycqed.measurement.hdf5_data:Type \"<class 'qutip.qobj.Qobj'>\" for \"rho\" (key): \"Quantum object: dims = [[4], [4]], shape = (4, 4), type = oper, isherm = True\n",
      "Qobj data =\n",
      "[[ 5.44712882e-01+0.j          8.02231084e-03+0.01634104j\n",
      "   4.83812609e-01+0.03128163j  5.39932654e-03-0.00448808j]\n",
      " [ 8.02231084e-03-0.01634104j  6.10954957e-04+0.j\n",
      "   8.12610174e-03-0.01406062j -5.60586485e-05-0.00022682j]\n",
      " [ 4.83812609e-01-0.03128163j  8.12610174e-03+0.01406062j\n",
      "   4.54572838e-01+0.j          4.07178017e-03-0.00401908j]\n",
      " [ 5.39932654e-03+0.00448808j -5.60586485e-05+0.00022682j\n",
      "   4.07178017e-03+0.00401908j  1.03334299e-04+0.j        ]]\" (item) at location <HDF5 group \"/Y90I/max_likelihood\" (0 members)> not supported, storing as string\n",
      "WARNING:pycqed.measurement.hdf5_data:Type \"<class 'qutip.qobj.Qobj'>\" for \"rho\" (key): \"Quantum object: dims = [[4], [4]], shape = (4, 4), type = oper, isherm = True\n",
      "Qobj data =\n",
      "[[ 0.29909239+0.j          0.00060898+0.24930982j  0.24364806+0.00794999j\n",
      "   0.03067418-0.2316083j ]\n",
      " [ 0.00060898-0.24930982j  0.25476538+0.j          0.02396345-0.21794047j\n",
      "  -0.22835929-0.0241087j ]\n",
      " [ 0.24364806-0.00794999j  0.02396345+0.21794047j  0.23371926+0.j\n",
      "   0.01236862-0.21703922j]\n",
      " [ 0.03067418+0.2316083j  -0.22835929+0.0241087j   0.01236862+0.21703922j\n",
      "   0.21242297+0.j        ]]\" (item) at location <HDF5 group \"/Y90X90/least_squares\" (0 members)> not supported, storing as string\n",
      "WARNING:pycqed.measurement.hdf5_data:Type \"<class 'qutip.qobj.Qobj'>\" for \"rho\" (key): \"Quantum object: dims = [[4], [4]], shape = (4, 4), type = oper, isherm = True\n",
      "Qobj data =\n",
      "[[ 0.29867541+0.j          0.00063299+0.24838642j  0.24271726+0.0085324j\n",
      "   0.02939364-0.23254136j]\n",
      " [ 0.00063299-0.24838642j  0.25460867+0.j          0.02164381-0.22026781j\n",
      "  -0.22611623-0.02512684j]\n",
      " [ 0.24271726-0.0085324j   0.02164381+0.22026781j  0.23343679+0.j\n",
      "   0.01165537-0.21497968j]\n",
      " [ 0.02939364+0.23254136j -0.22611623+0.02512684j  0.01165537+0.21497968j\n",
      "   0.21327961+0.j        ]]\" (item) at location <HDF5 group \"/Y90X90/max_likelihood\" (0 members)> not supported, storing as string\n",
      "WARNING:pycqed.measurement.hdf5_data:Type \"<class 'qutip.qobj.Qobj'>\" for \"rho\" (key): \"Quantum object: dims = [[4], [4]], shape = (4, 4), type = oper, isherm = True\n",
      "Qobj data =\n",
      "[[ 0.30010471+0.j          0.24299212+0.00862481j  0.2419006 +0.01538548j\n",
      "  -0.23707917-0.02767113j]\n",
      " [ 0.24299212-0.00862481j  0.2399072 +0.j          0.22230484+0.02454923j\n",
      "  -0.22108953-0.01422154j]\n",
      " [ 0.2419006 -0.01538548j  0.22230484-0.02454923j  0.24175444+0.j\n",
      "  -0.22113282+0.00597081j]\n",
      " [-0.23707917+0.02767113j -0.22108953+0.01422154j -0.22113282-0.00597081j\n",
      "   0.21823365+0.j        ]]\" (item) at location <HDF5 group \"/Y90Y90/least_squares\" (0 members)> not supported, storing as string\n",
      "WARNING:pycqed.measurement.hdf5_data:Type \"<class 'qutip.qobj.Qobj'>\" for \"rho\" (key): \"Quantum object: dims = [[4], [4]], shape = (4, 4), type = oper, isherm = True\n",
      "Qobj data =\n",
      "[[ 0.30010471+0.j          0.24299212+0.00862481j  0.2419006 +0.01538548j\n",
      "  -0.23707917-0.02767113j]\n",
      " [ 0.24299212-0.00862481j  0.2399072 +0.j          0.22230484+0.02454923j\n",
      "  -0.22108953-0.01422154j]\n",
      " [ 0.2419006 -0.01538548j  0.22230484-0.02454923j  0.24175444+0.j\n",
      "  -0.22113282+0.00597081j]\n",
      " [-0.23707917+0.02767113j -0.22108953+0.01422154j -0.22113282-0.00597081j\n",
      "   0.21823365+0.j        ]]\" (item) at location <HDF5 group \"/Y90Y90/max_likelihood\" (0 members)> not supported, storing as string\n",
      "WARNING:pycqed.measurement.hdf5_data:Type \"<class 'qutip.qobj.Qobj'>\" for \"rho\" (key): \"Quantum object: dims = [[4], [4]], shape = (4, 4), type = oper, isherm = True\n",
      "Qobj data =\n",
      "[[ 0.05326567+0.j         -0.00381086-0.00136619j  0.00528809-0.01058407j\n",
      "   0.00567848+0.01002833j]\n",
      " [-0.00381086+0.00136619j  0.48200033+0.j         -0.00180998+0.02837493j\n",
      "  -0.43865357-0.04400096j]\n",
      " [ 0.00528809+0.01058407j -0.00180998-0.02837493j  0.03433325+0.j\n",
      "   0.0026769 +0.0129067j ]\n",
      " [ 0.00567848-0.01002833j -0.43865357+0.04400096j  0.0026769 -0.0129067j\n",
      "   0.43040076+0.j        ]]\" (item) at location <HDF5 group \"/Y90X180/least_squares\" (0 members)> not supported, storing as string\n",
      "WARNING:pycqed.measurement.hdf5_data:Type \"<class 'qutip.qobj.Qobj'>\" for \"rho\" (key): \"Quantum object: dims = [[4], [4]], shape = (4, 4), type = oper, isherm = True\n",
      "Qobj data =\n",
      "[[ 0.05326567+0.j         -0.00381086-0.00136619j  0.00528809-0.01058407j\n",
      "   0.00567848+0.01002833j]\n",
      " [-0.00381086+0.00136619j  0.48200033+0.j         -0.00180998+0.02837493j\n",
      "  -0.43865357-0.04400096j]\n",
      " [ 0.00528809+0.01058407j -0.00180998-0.02837493j  0.03433325+0.j\n",
      "   0.0026769 +0.0129067j ]\n",
      " [ 0.00567848-0.01002833j -0.43865357+0.04400096j  0.0026769 -0.0129067j\n",
      "   0.43040076+0.j        ]]\" (item) at location <HDF5 group \"/Y90X180/max_likelihood\" (0 members)> not supported, storing as string\n"
     ]
    },
    {
     "name": "stderr",
     "output_type": "stream",
     "text": [
      "WARNING:pycqed.measurement.hdf5_data:Type \"<class 'qutip.qobj.Qobj'>\" for \"rho\" (key): \"Quantum object: dims = [[4], [4]], shape = (4, 4), type = oper, isherm = True\n",
      "Qobj data =\n",
      "[[ 6.85046820e-02+0.j          1.54528839e-03+0.00423775j\n",
      "  -8.37716469e-04+0.02225725j -9.25180344e-03+0.00377608j]\n",
      " [ 1.54528839e-03-0.00423775j -2.73502831e-03+0.j\n",
      "   4.29261865e-03-0.03037129j  4.48528825e-04-0.00102341j]\n",
      " [-8.37716469e-04-0.02225725j  4.29261865e-03+0.03037129j\n",
      "   9.39546228e-01+0.j          6.78931205e-03+0.00654011j]\n",
      " [-9.25180344e-03-0.00377608j  4.48528825e-04+0.00102341j\n",
      "   6.78931205e-03-0.00654011j -5.31588218e-03+0.j        ]]\" (item) at location <HDF5 group \"/X180I/least_squares\" (0 members)> not supported, storing as string\n",
      "WARNING:pycqed.measurement.hdf5_data:Type \"<class 'qutip.qobj.Qobj'>\" for \"rho\" (key): \"Quantum object: dims = [[4], [4]], shape = (4, 4), type = oper, isherm = True\n",
      "Qobj data =\n",
      "[[ 6.41046555e-02+0.00000000e+00j  8.81141304e-04+2.92386518e-03j\n",
      "  -7.33745051e-04+2.17578463e-02j -4.00333922e-03+1.76906565e-03j]\n",
      " [ 8.81141304e-04-2.92386518e-03j  1.04575551e-03+0.00000000e+00j\n",
      "   4.57840369e-03-2.80229512e-02j  2.17526101e-04+3.75352890e-05j]\n",
      " [-7.33745051e-04-2.17578463e-02j  4.57840369e-03+2.80229512e-02j\n",
      "   9.34476736e-01+0.00000000e+00j  6.89252768e-03+6.82986808e-03j]\n",
      " [-4.00333922e-03-1.76906565e-03j  2.17526101e-04-3.75352890e-05j\n",
      "   6.89252768e-03-6.82986808e-03j  3.73455817e-04+0.00000000e+00j]]\" (item) at location <HDF5 group \"/X180I/max_likelihood\" (0 members)> not supported, storing as string\n",
      "WARNING:pycqed.measurement.hdf5_data:Type \"<class 'qutip.qobj.Qobj'>\" for \"rho\" (key): \"Quantum object: dims = [[4], [4]], shape = (4, 4), type = oper, isherm = True\n",
      "Qobj data =\n",
      "[[ 0.03677263+0.00000000e+00j -0.00323174+2.04627707e-04j\n",
      "   0.01458971+7.22556768e-03j  0.01150858-4.01122028e-03j]\n",
      " [-0.00323174-2.04627707e-04j  0.02702167+0.00000000e+00j\n",
      "   0.00477533-5.51381676e-03j -0.00982442-7.45638074e-03j]\n",
      " [ 0.01458971-7.22556768e-03j  0.00477533+5.51381676e-03j\n",
      "   0.50514933+0.00000000e+00j  0.00735136-4.50638081e-01j]\n",
      " [ 0.01150858+4.01122028e-03j -0.00982442+7.45638074e-03j\n",
      "   0.00735136+4.50638081e-01j  0.43105637+0.00000000e+00j]]\" (item) at location <HDF5 group \"/X180X90/least_squares\" (0 members)> not supported, storing as string\n",
      "WARNING:pycqed.measurement.hdf5_data:Type \"<class 'qutip.qobj.Qobj'>\" for \"rho\" (key): \"Quantum object: dims = [[4], [4]], shape = (4, 4), type = oper, isherm = True\n",
      "Qobj data =\n",
      "[[ 0.03677263+0.00000000e+00j -0.00323174+2.04627707e-04j\n",
      "   0.01458971+7.22556768e-03j  0.01150858-4.01122028e-03j]\n",
      " [-0.00323174-2.04627707e-04j  0.02702167+0.00000000e+00j\n",
      "   0.00477533-5.51381676e-03j -0.00982442-7.45638074e-03j]\n",
      " [ 0.01458971-7.22556768e-03j  0.00477533+5.51381676e-03j\n",
      "   0.50514934+0.00000000e+00j  0.00735136-4.50638081e-01j]\n",
      " [ 0.01150858+4.01122028e-03j -0.00982442+7.45638074e-03j\n",
      "   0.00735136+4.50638081e-01j  0.43105637+0.00000000e+00j]]\" (item) at location <HDF5 group \"/X180X90/max_likelihood\" (0 members)> not supported, storing as string\n",
      "WARNING:pycqed.measurement.hdf5_data:Type \"<class 'qutip.qobj.Qobj'>\" for \"rho\" (key): \"Quantum object: dims = [[4], [4]], shape = (4, 4), type = oper, isherm = True\n",
      "Qobj data =\n",
      "[[ 3.68918456e-02+0.j          8.46852023e-04+0.00170632j\n",
      "  -3.66323870e-03+0.00012147j  1.74480615e-03-0.01436251j]\n",
      " [ 8.46852023e-04-0.00170632j  1.90169848e-02+0.j\n",
      "   1.10944057e-02-0.00656055j -1.52641721e-05+0.01275845j]\n",
      " [-3.66323870e-03-0.00012147j  1.10944057e-02+0.00656055j\n",
      "   5.01994609e-01+0.j         -4.48476922e-01-0.01406778j]\n",
      " [ 1.74480615e-03+0.01436251j -1.52641721e-05-0.01275845j\n",
      "  -4.48476922e-01+0.01406778j  4.42096560e-01+0.j        ]]\" (item) at location <HDF5 group \"/X180Y90/least_squares\" (0 members)> not supported, storing as string\n",
      "WARNING:pycqed.measurement.hdf5_data:Type \"<class 'qutip.qobj.Qobj'>\" for \"rho\" (key): \"Quantum object: dims = [[4], [4]], shape = (4, 4), type = oper, isherm = True\n",
      "Qobj data =\n",
      "[[ 3.68918466e-02+0.j          8.46852023e-04+0.00170632j\n",
      "  -3.66323870e-03+0.00012147j  1.74480615e-03-0.01436251j]\n",
      " [ 8.46852023e-04-0.00170632j  1.90169858e-02+0.j\n",
      "   1.10944057e-02-0.00656055j -1.52641721e-05+0.01275845j]\n",
      " [-3.66323870e-03-0.00012147j  1.10944057e-02+0.00656055j\n",
      "   5.01994610e-01+0.j         -4.48476922e-01-0.01406778j]\n",
      " [ 1.74480615e-03+0.01436251j -1.52641721e-05-0.01275845j\n",
      "  -4.48476922e-01+0.01406778j  4.42096561e-01+0.j        ]]\" (item) at location <HDF5 group \"/X180Y90/max_likelihood\" (0 members)> not supported, storing as string\n",
      "WARNING:pycqed.measurement.hdf5_data:Type \"<class 'qutip.qobj.Qobj'>\" for \"rho\" (key): \"Quantum object: dims = [[4], [4]], shape = (4, 4), type = oper, isherm = True\n",
      "Qobj data =\n",
      "[[ 6.31429148e-03+0.j          1.64671060e-03+0.00097609j\n",
      "   4.19653512e-03+0.00388689j -5.18279472e-03+0.00267608j]\n",
      " [ 1.64671060e-03-0.00097609j  4.26051351e-02+0.j\n",
      "   4.48274108e-03+0.01448416j  1.16972694e-02-0.00949973j]\n",
      " [ 4.19653512e-03-0.00388689j  4.48274108e-03-0.01448416j\n",
      "   7.60497544e-02+0.j          1.89087245e-04+0.00224756j]\n",
      " [-5.18279472e-03-0.00267608j  1.16972694e-02+0.00949973j\n",
      "   1.89087245e-04-0.00224756j  8.75030819e-01+0.j        ]]\" (item) at location <HDF5 group \"/X180X180/least_squares\" (0 members)> not supported, storing as string\n",
      "WARNING:pycqed.measurement.hdf5_data:Type \"<class 'qutip.qobj.Qobj'>\" for \"rho\" (key): \"Quantum object: dims = [[4], [4]], shape = (4, 4), type = oper, isherm = True\n",
      "Qobj data =\n",
      "[[ 6.31429248e-03+0.j          1.64671060e-03+0.00097609j\n",
      "   4.19653512e-03+0.00388689j -5.18279472e-03+0.00267608j]\n",
      " [ 1.64671060e-03-0.00097609j  4.26051361e-02+0.j\n",
      "   4.48274108e-03+0.01448416j  1.16972694e-02-0.00949973j]\n",
      " [ 4.19653512e-03-0.00388689j  4.48274108e-03-0.01448416j\n",
      "   7.60497554e-02+0.j          1.89087245e-04+0.00224756j]\n",
      " [-5.18279472e-03-0.00267608j  1.16972694e-02+0.00949973j\n",
      "   1.89087245e-04-0.00224756j  8.75030820e-01+0.j        ]]\" (item) at location <HDF5 group \"/X180X180/max_likelihood\" (0 members)> not supported, storing as string\n"
     ]
    },
    {
     "name": "stdout",
     "output_type": "stream",
     "text": [
      "Total time:  2.2280561923980713\n"
     ]
    }
   ],
   "source": [
    "t0 = time.time()\n",
    "gate_of_interest = 'CZ'\n",
    "estimation_types=('least_squares', 'max_likelihood')\n",
    "\n",
    "pp(meas_obj_value_names_map)\n",
    "pp1 = pp_mod.ProcessingPipeline()\n",
    "pp1.add_node('process_tomography_analysis', meas_obj_names=meas_obj_names,\n",
    "            prep_pulses_list=prep_pulses_list, gate_of_interest='CZ', \n",
    "            estimation_types=estimation_types, replace_value=True)\n",
    "\n",
    "# add timestamps to data_dict_all; needed for saving data\n",
    "dat_extr_mod.get_timestamps(data_dict_all, t_start=t_start, t_stop=t_end) \n",
    "pla.process_pipeline(data_dict_all, processing_pipeline=pp1,\n",
    "                     filename='AnalysisResultsProcessTomo',\n",
    "                     save_figures=False, # plots for chi matrix not implemented yet\n",
    "                     save_processed_data=True)\n",
    "print('Total time: ', time.time() - t0)"
   ]
  },
  {
   "cell_type": "markdown",
   "metadata": {},
   "source": [
    "## Do bootstrapping"
   ]
  },
  {
   "cell_type": "code",
   "execution_count": null,
   "metadata": {},
   "outputs": [],
   "source": [
    "t0 = time.time()\n",
    "gate_of_interest = 'CZ'\n",
    "estimation_types=('least_squares', 'max_likelihood')\n",
    "\n",
    "pp(meas_obj_value_names_map)\n",
    "pp1 = pp_mod.ProcessingPipeline()\n",
    "pp1.add_node('process_tomography_analysis', meas_obj_names=meas_obj_names,\n",
    "            prep_pulses_list=prep_pulses_list, gate_of_interest='CZ', \n",
    "            estimation_types=estimation_types, replace_value=True)\n",
    "pp1.add_node('bootstrapping_process_tomography', \n",
    "            keys_in=pp.get_keys_out(meas_obj_names, 'threshold_data'),\n",
    "            Nbstrp=1, meas_obj_names=meas_obj_names, replace_value=True,\n",
    "            prep_pulses_list=prep_pulses_list, gate_of_interest='CZ',\n",
    "            keys_out=None, basis_rots=basis_rots, do_preselection=True,\n",
    "            estimation_types=estimation_types, verbose=True) \n",
    "dat_extr_mod.get_timestamps(data_dict_all, t_start=t_start, t_stop=t_end)\n",
    "pla.process_pipeline(data_dict_all, processing_pipeline=pp1,\n",
    "                     filename='AnalysisResultsProcessTomo',\n",
    "                     save_figures=False, save_processed_data=False)\n",
    "print('Total time: ', time.time() - t0)"
   ]
  }
 ],
 "metadata": {
  "kernelspec": {
   "display_name": "Python [conda env:pycqed36]",
   "language": "python",
   "name": "conda-env-pycqed36-py"
  },
  "language_info": {
   "codemirror_mode": {
    "name": "ipython",
    "version": 3
   },
   "file_extension": ".py",
   "mimetype": "text/x-python",
   "name": "python",
   "nbconvert_exporter": "python",
   "pygments_lexer": "ipython3",
   "version": "3.6.6"
  },
  "toc": {
   "base_numbering": 1,
   "nav_menu": {},
   "number_sections": true,
   "sideBar": true,
   "skip_h1_title": false,
   "title_cell": "Table of Contents",
   "title_sidebar": "Contents",
   "toc_cell": false,
   "toc_position": {
    "height": "calc(100% - 180px)",
    "left": "10px",
    "top": "150px",
    "width": "190px"
   },
   "toc_section_display": true,
   "toc_window_display": true
  }
 },
 "nbformat": 4,
 "nbformat_minor": 2
}
