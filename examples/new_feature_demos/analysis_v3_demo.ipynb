{
 "cells": [
  {
   "cell_type": "code",
   "execution_count": null,
   "metadata": {},
   "outputs": [],
   "source": [
    "from pycqed.utilities import general as gen\n",
    "from pycqed.analysis import measurement_analysis as ma\n",
    "from pycqed.analysis import analysis_toolbox as a_tools\n",
    "from pycqed.analysis import fitting_models as fit_mods\n",
    "from pycqed.analysis_v2 import timedomain_analysis as tda\n",
    "from pycqed.analysis_v2 import base_analysis as ba\n",
    "from pycqed.analysis_v2 import readout_analysis as ra\n",
    "from pycqed.analysis.tools import plotting as plting\n",
    "from importlib import reload\n",
    "from collections import OrderedDict\n",
    "import numpy as np\n",
    "from pprint import pprint\n",
    "import matplotlib.pyplot as plt\n",
    "import h5py\n",
    "import os"
   ]
  },
  {
   "cell_type": "code",
   "execution_count": null,
   "metadata": {},
   "outputs": [],
   "source": [
    "from pycqedscripts.init.xld.virtual_ATC66_M124_S7P11_PQSC import *\n",
    "from pycqed.measurement import multi_qubit_module as mqm\n",
    "data_folder = r''\n",
    "a_tools.datadir = data_folder"
   ]
  },
  {
   "cell_type": "code",
   "execution_count": null,
   "metadata": {},
   "outputs": [],
   "source": [
    "from pycqedscripts.init.xld.cz_ATC66_M124_S7P11 import *\n",
    "from pycqed.utilities import general as gen\n",
    "qubits = [qb1, qb2, qb3, qb4, qb5, qb6, qb7]\n",
    "upcz_pulse_names = add_all_CZ_pulses(qubits)\n",
    "timestamp = '20200427_233508'\n",
    "for qb in qubits:\n",
    "    gen.load_settings(qb, timestamp=timestamp)\n",
    "clear_output()"
   ]
  },
  {
   "cell_type": "code",
   "execution_count": null,
   "metadata": {},
   "outputs": [],
   "source": [
    "from pycqed.measurement import hdf5_data as hdf_dat\n",
    "from pycqed.measurement.sweep_points import SweepPoints\n",
    "from pycqed.measurement.calibration_points import CalibrationPoints"
   ]
  },
  {
   "cell_type": "code",
   "execution_count": null,
   "metadata": {},
   "outputs": [],
   "source": []
  },
  {
   "cell_type": "code",
   "execution_count": null,
   "metadata": {},
   "outputs": [],
   "source": [
    "# import analysis_v3 modules\n",
    "from pycqed.analysis_v3.init_anav3 import *"
   ]
  },
  {
   "cell_type": "code",
   "execution_count": null,
   "metadata": {},
   "outputs": [],
   "source": [
    "plot_pars_dict = plot_module.get_default_plot_params(set_params=True)\n",
    "\n",
    "\n",
    "%config InlineBackend.print_figure_kwargs = {'bbox_inches':None}\n",
    "# fig.patch.set_color('0.9')\n",
    "# fig.align_ylabels()\n",
    "# fig.subplots_adjust(0.145, 0.075, 0.987, 0.995)"
   ]
  },
  {
   "cell_type": "markdown",
   "metadata": {},
   "source": [
    "Analysis_v3 requires:\n",
    "    1. ProcessingPipeline object\n",
    "    2. measured object(s)\n",
    "    3. measured-objects-value-names map  \n",
    "    4. SweepPoints object\n",
    "    5. measured-objects-sweep-points map    \n",
    "    6. CalibrationPoints object (written by Nathan Lacroix)"
   ]
  },
  {
   "cell_type": "markdown",
   "metadata": {},
   "source": [
    "# Processing Pipeline"
   ]
  },
  {
   "cell_type": "markdown",
   "metadata": {},
   "source": [
    "# Measured object(s)"
   ]
  },
  {
   "cell_type": "markdown",
   "metadata": {},
   "source": [
    "# Measured-objects-value-names-map"
   ]
  },
  {
   "cell_type": "code",
   "execution_count": null,
   "metadata": {},
   "outputs": [],
   "source": [
    "from pycqed.analysis_v3.processing_pipeline import ProcessingPipeline\n",
    "# [\n",
    "#     {'node_name1': function_name1, keys_in: keys_in_list1, **node_params1},\n",
    "#     {'node_name2': function_name2, keys_in: keys_in_list2, **node_params2},\n",
    "#     .\n",
    "#     .\n",
    "#     .\n",
    "#     {'node_nameN': function_nameN, keys_in: keys_in_listN, **node_paramsN}\n",
    "# ]"
   ]
  },
  {
   "cell_type": "markdown",
   "metadata": {},
   "source": [
    "Create processing pipeline\n",
    "<br> <br>\n",
    "Requires: \n",
    "    - measured object(s): ['qb1', 'qb2'], 'qb3', 'TWPA', 'dummy' etc. -> completely up to the user\n",
    "    - measured-objects-value-names map (i.e. channel map, {meas_obj_names: [ro_channels]})"
   ]
  },
  {
   "cell_type": "code",
   "execution_count": null,
   "metadata": {},
   "outputs": [],
   "source": [
    "# ProcessingPipeline(node_name, \n",
    "#                    **node_params)\n",
    "pp = ProcessingPipeline('average_data', \n",
    "                        keys_in='raw', shape=(10, 3), averaging_axis=1, meas_obj_names='qb1')\n",
    "pp"
   ]
  },
  {
   "cell_type": "code",
   "execution_count": null,
   "metadata": {},
   "outputs": [],
   "source": [
    "pp.add_node('rotate_iq', keys_in='raw', meas_obj_names='qb2', num_keys_out=1)\n",
    "pp.add_node('ramsey_analysis', keys_in='previous', keys_out=None, meas_obj_names='qb2')\n",
    "pp"
   ]
  },
  {
   "cell_type": "code",
   "execution_count": null,
   "metadata": {},
   "outputs": [],
   "source": [
    "# finalize pipeline -> requires measured-objects-value-names map\n",
    "\n",
    "# helper function for multi-qubit experiments -> requires (virtual) qubit objects + detector functions\n",
    "qubits = [qb1, qb2, qb3]\n",
    "for i, qb in enumerate(qubits):\n",
    "    qb.acq_I_channel(2*i)\n",
    "    qb.acq_Q_channel(2*i + 1)\n",
    "    qb.update_detector_functions()   \n",
    "    \n",
    "det_func = mqm.get_multiplexed_readout_detector_functions(qubits)['int_avg_det']\n",
    "mqm.get_meas_obj_value_names_map(qubits, det_func)"
   ]
  },
  {
   "cell_type": "code",
   "execution_count": null,
   "metadata": {},
   "outputs": [],
   "source": [
    "det_func = mqm.get_multiplexed_readout_detector_functions(qubits)['int_avg_classif_det']\n",
    "mqm.get_meas_obj_value_names_map(qubits, det_func)"
   ]
  },
  {
   "cell_type": "code",
   "execution_count": null,
   "metadata": {},
   "outputs": [],
   "source": [
    "det_func = mqm.get_multiplexed_readout_detector_functions(\n",
    "    qubits, det_get_values_kws={'correlated': True})['int_avg_classif_det']\n",
    "mqm.get_meas_obj_value_names_map(qubits, det_func)"
   ]
  },
  {
   "cell_type": "code",
   "execution_count": null,
   "metadata": {},
   "outputs": [],
   "source": []
  },
  {
   "cell_type": "code",
   "execution_count": null,
   "metadata": {},
   "outputs": [],
   "source": [
    "# let's use:\n",
    "det_func = mqm.get_multiplexed_readout_detector_functions(qubits)['int_avg_det']\n",
    "movnm = mqm.get_meas_obj_value_names_map(qubits, det_func)\n",
    "movnm"
   ]
  },
  {
   "cell_type": "code",
   "execution_count": null,
   "metadata": {},
   "outputs": [],
   "source": [
    "pp"
   ]
  },
  {
   "cell_type": "code",
   "execution_count": null,
   "metadata": {},
   "outputs": [],
   "source": [
    "# finalize pipeline\n",
    "pp(movnm)\n",
    "pp"
   ]
  },
  {
   "cell_type": "markdown",
   "metadata": {},
   "source": [
    "# SweepPoints"
   ]
  },
  {
   "cell_type": "code",
   "execution_count": null,
   "metadata": {},
   "outputs": [],
   "source": [
    "from pycqed.measurement.sweep_points import SweepPoints\n",
    "# The SweepPoints object is a list of dictionaries of the form:\n",
    "#     [\n",
    "#         # 1st sweep dimension\n",
    "#         {param_name0: (values, unit, plot_label),\n",
    "#          param_name1: (values, unit, plot_label),\n",
    "#         ...\n",
    "#          param_nameN: (values, unit, plot_label)},\n",
    "\n",
    "#         # 2nd sweep dimension\n",
    "#         {param_name0: (values, unit, plot_label),\n",
    "#          param_name1: (values, unit, plot_label),\n",
    "#         ...\n",
    "#          param_nameN: (values, unit, plot_label)},\n",
    "\n",
    "#          .\n",
    "#          .\n",
    "#          .\n",
    "\n",
    "#         # D-th sweep dimension\n",
    "#         {param_name0: (values, unit, plot_label),\n",
    "#          param_name1: (values, unit, plot_label),\n",
    "#         ...\n",
    "#          param_nameN: (values, unit, plot_label)},\n",
    "#     ]"
   ]
  },
  {
   "cell_type": "code",
   "execution_count": null,
   "metadata": {},
   "outputs": [],
   "source": [
    "# hard sweep (first sweep dimension): pulse delays\n",
    "sp = SweepPoints('delay_qb1', np.linspace(0, 1e-6, 3), 's', 'Pulse delay, $\\\\tau$')\n",
    "sp"
   ]
  },
  {
   "cell_type": "code",
   "execution_count": null,
   "metadata": {},
   "outputs": [],
   "source": [
    "sp.add_sweep_dimension()\n",
    "sp"
   ]
  },
  {
   "cell_type": "code",
   "execution_count": null,
   "metadata": {},
   "outputs": [],
   "source": [
    "# soft sweep (2nd sweep dimension): pulse amplitudes\n",
    "sp.add_sweep_parameter(f'amps_qb1', np.linspace(0, 1, 3), 'V', 'Pulse amplitude, $A$')\n",
    "sp"
   ]
  },
  {
   "cell_type": "code",
   "execution_count": null,
   "metadata": {},
   "outputs": [],
   "source": []
  },
  {
   "cell_type": "code",
   "execution_count": null,
   "metadata": {},
   "outputs": [],
   "source": [
    "# 2D sweep for 3 qubits\n",
    "# first (hard) sweep dimension: pulse delay\n",
    "sp = SweepPoints()\n",
    "sp.add_sweep_parameter('lengths_qb1', np.linspace(10e-9, 1e-6, 3), 's', 'Pulse delay, $\\\\tau$')\n",
    "sp.add_sweep_parameter('lengths_qb2', np.linspace(10e-9, 1e-6, 3), 's', 'Pulse delay, $\\\\tau$')\n",
    "sp.add_sweep_parameter('lengths_qb3', np.linspace(10e-9, 1e-6, 3), 's', 'Pulse delay, $\\\\tau$')\n",
    "sp"
   ]
  },
  {
   "cell_type": "code",
   "execution_count": null,
   "metadata": {},
   "outputs": [],
   "source": [
    "# second (soft) sweep dimension: pulse amplitude\n",
    "sp.add_sweep_dimension()\n",
    "for qb in ['qb1', 'qb2', 'qb3']:\n",
    "    sp.add_sweep_parameter(f'amps_{qb}', np.linspace(0, 1, 3), 'V', 'Pulse amplitude, $A$')\n",
    "sp"
   ]
  },
  {
   "cell_type": "markdown",
   "metadata": {},
   "source": [
    "# Measured-objects-sweep-points map"
   ]
  },
  {
   "cell_type": "code",
   "execution_count": null,
   "metadata": {},
   "outputs": [],
   "source": [
    "mospm = sp.get_sweep_points_map(['qb1', 'qb2', 'qb3'])\n",
    "mospm"
   ]
  },
  {
   "cell_type": "markdown",
   "metadata": {},
   "source": [
    "# Ramsey"
   ]
  },
  {
   "cell_type": "markdown",
   "metadata": {},
   "source": [
    "## single qubit"
   ]
  },
  {
   "cell_type": "code",
   "execution_count": null,
   "metadata": {},
   "outputs": [],
   "source": [
    "timestamp = '20200317_231624'"
   ]
  },
  {
   "cell_type": "code",
   "execution_count": null,
   "metadata": {},
   "outputs": [],
   "source": [
    "reload(hlp_mod)\n",
    "data_file = hlp_mod.get_data_file_from_timestamp(timestamp)\n",
    "sweep_points = np.array(data_file['Experimental Data']['Experimental Metadata']['sweep_points_dict']['qb2'])\n",
    "data_file.close()"
   ]
  },
  {
   "cell_type": "code",
   "execution_count": null,
   "metadata": {},
   "outputs": [],
   "source": [
    "# OR\n",
    "sweep_points = hlp_mod.get_param_from_metadata_group('sweep_points_dict', timestamp)['qb2']"
   ]
  },
  {
   "cell_type": "code",
   "execution_count": null,
   "metadata": {},
   "outputs": [],
   "source": [
    "meas_object = 'qb2'\n",
    "SP = SweepPoints('delays_' + meas_object, sweep_points, 's', 'Delay, $\\\\tau$')\n",
    "meas_obj_value_names_map = {meas_object: hlp_mod.get_value_names_from_timestamp(timestamp)}\n",
    "meas_obj_sweep_points_map = SP.get_sweep_points_map([meas_object])"
   ]
  },
  {
   "cell_type": "markdown",
   "metadata": {},
   "source": [
    "Create pipeline"
   ]
  },
  {
   "cell_type": "code",
   "execution_count": null,
   "metadata": {},
   "outputs": [],
   "source": [
    "# \"raw\" pipeline\n",
    "reload(ppmod)\n",
    "pp = ppmod.ProcessingPipeline()\n",
    "pp.add_node('rotate_iq', keys_in='raw', meas_obj_names=[meas_object], num_keys_out=1)\n",
    "pp.add_node('ramsey_analysis', keys_in='previous rotate_iq', keys_out=None, meas_obj_names=[meas_object])\n",
    "pp"
   ]
  },
  {
   "cell_type": "code",
   "execution_count": null,
   "metadata": {},
   "outputs": [],
   "source": [
    "pp(meas_obj_value_names_map)\n",
    "pp"
   ]
  },
  {
   "cell_type": "code",
   "execution_count": null,
   "metadata": {},
   "outputs": [],
   "source": [
    "data_dict = pla.extract_data_hdf(timestamp)"
   ]
  },
  {
   "cell_type": "code",
   "execution_count": null,
   "metadata": {},
   "outputs": [],
   "source": [
    "data_dict.keys()"
   ]
  },
  {
   "cell_type": "code",
   "execution_count": null,
   "metadata": {},
   "outputs": [],
   "source": [
    "data_dict.update(OrderedDict({\n",
    "    'sweep_points': SP,\n",
    "    'meas_obj_value_names_map': meas_obj_value_names_map,\n",
    "    'meas_obj_sweep_points_map': meas_obj_sweep_points_map,\n",
    "    'artificial_detuning_dict': {meas_object: 0.5e6},\n",
    "}))\n",
    "pla.process_pipeline(data_dict, processing_pipeline=pp)"
   ]
  },
  {
   "cell_type": "code",
   "execution_count": null,
   "metadata": {},
   "outputs": [],
   "source": [
    "data_dict.keys()"
   ]
  },
  {
   "cell_type": "code",
   "execution_count": null,
   "metadata": {},
   "outputs": [],
   "source": [
    "data_dict['qb2']"
   ]
  },
  {
   "cell_type": "markdown",
   "metadata": {},
   "source": [
    "## multi-qubit"
   ]
  },
  {
   "cell_type": "code",
   "execution_count": null,
   "metadata": {},
   "outputs": [],
   "source": [
    "timestamp = '20191118_183801'"
   ]
  },
  {
   "cell_type": "code",
   "execution_count": null,
   "metadata": {},
   "outputs": [],
   "source": [
    "movnm = hlp_mod.get_param_from_metadata_group('meas_obj_value_names_map', timestamp)\n",
    "reload(ppmod)\n",
    "pp = ppmod.ProcessingPipeline()\n",
    "pp.add_node('rotate_iq', keys_in='raw', meas_obj_names=list(movnm), num_keys_out=1)\n",
    "pp.add_node('ramsey_analysis', keys_in='previous rotate_iq', keys_out=None,\n",
    "            meas_obj_names=list(movnm))\n",
    "pp"
   ]
  },
  {
   "cell_type": "code",
   "execution_count": null,
   "metadata": {},
   "outputs": [],
   "source": [
    "pp(movnm)\n",
    "pp"
   ]
  },
  {
   "cell_type": "code",
   "execution_count": null,
   "metadata": {},
   "outputs": [],
   "source": [
    "data_dict = pla.extract_data_hdf(timestamp)\n",
    "data_dict.update(OrderedDict({\n",
    "    'artificial_detuning_dict': {meas_object: 2e6 for meas_object in movnm},\n",
    "}))\n",
    "pla.process_pipeline(data_dict, processing_pipeline=pp)"
   ]
  },
  {
   "cell_type": "code",
   "execution_count": null,
   "metadata": {},
   "outputs": [],
   "source": [
    "data_dict.keys()"
   ]
  },
  {
   "cell_type": "code",
   "execution_count": null,
   "metadata": {},
   "outputs": [],
   "source": [
    "data_dict['qb1']"
   ]
  },
  {
   "cell_type": "markdown",
   "metadata": {},
   "source": [
    "# TwoQubit RB"
   ]
  },
  {
   "cell_type": "markdown",
   "metadata": {},
   "source": [
    "## multiple files"
   ]
  },
  {
   "cell_type": "code",
   "execution_count": null,
   "metadata": {},
   "outputs": [],
   "source": [
    "t_start = '20191103_174901'\n",
    "t_stop = '20191103_183000'\n",
    "data_dict = pla.get_timestamps(t_start=t_start, t_stop=t_stop)"
   ]
  },
  {
   "cell_type": "code",
   "execution_count": null,
   "metadata": {},
   "outputs": [],
   "source": [
    "data_dict"
   ]
  },
  {
   "cell_type": "code",
   "execution_count": null,
   "metadata": {},
   "outputs": [],
   "source": [
    "sweep_points = hlp_mod.get_param_from_metadata_group('sweep_points', data_dict['timestamps'][-1])\n",
    "ncl = sweep_points[1]['cliffords'][0]\n",
    "nr_seeds_per_file = len(sweep_points[0]['nr_seeds'][0])\n",
    "nr_files = len(data_dict['timestamps'])\n",
    "print(ncl)\n",
    "print(nr_seeds_per_file)\n",
    "print(nr_files)"
   ]
  },
  {
   "cell_type": "code",
   "execution_count": null,
   "metadata": {},
   "outputs": [],
   "source": [
    "movnm = hlp_mod.get_param_from_metadata_group('meas_obj_value_names_map', data_dict['timestamps'][-1])\n",
    "movnm"
   ]
  },
  {
   "cell_type": "code",
   "execution_count": null,
   "metadata": {
    "scrolled": true
   },
   "outputs": [],
   "source": [
    "reload(ppmod)\n",
    "pp = ppmod.ProcessingPipeline()\n",
    "pp.add_node('average_data', keys_in='raw',\n",
    "            shape=(nr_files*len(ncl), nr_seeds_per_file), \n",
    "            meas_obj_names=list(movnm))\n",
    "pp.add_node('get_std_deviation', keys_in='raw',\n",
    "            shape=(nr_files*len(ncl), nr_seeds_per_file), \n",
    "            meas_obj_names=list(movnm))\n",
    "pp.add_node('average_data', keys_in=f'previous average_data',\n",
    "            shape=(nr_files, len(ncl)), averaging_axis=0, meas_obj_names=list(movnm))\n",
    "pp.add_node('get_std_deviation', keys_in=f'previous get_std_deviation',\n",
    "            shape=(nr_files, len(ncl)), averaging_axis=0, meas_obj_names=list(movnm))                      \n",
    "pp.add_node('rb_analysis', meas_obj_names=list(movnm),\n",
    "            keys_out=None, d=4,\n",
    "            keys_in=f'previous average_data1',\n",
    "            keys_in_std=f'previous get_std_deviation1')\n",
    "pp(movnm)\n",
    "pp    "
   ]
  },
  {
   "cell_type": "code",
   "execution_count": null,
   "metadata": {},
   "outputs": [],
   "source": [
    "reload(a_tools)\n",
    "a_tools.datadir = data_folder\n",
    "reload_anav3()"
   ]
  },
  {
   "cell_type": "code",
   "execution_count": null,
   "metadata": {},
   "outputs": [],
   "source": [
    "pla.search_modules"
   ]
  },
  {
   "cell_type": "code",
   "execution_count": null,
   "metadata": {},
   "outputs": [],
   "source": [
    "data_dict = pla.extract_data_hdf(data_dict=data_dict, append_data=True, replace_data=False)"
   ]
  },
  {
   "cell_type": "code",
   "execution_count": null,
   "metadata": {},
   "outputs": [],
   "source": [
    "data_dict.keys()"
   ]
  },
  {
   "cell_type": "code",
   "execution_count": null,
   "metadata": {
    "scrolled": true
   },
   "outputs": [],
   "source": [
    "pla.process_pipeline(data_dict, processing_pipeline=pp, save_processed_data=True, save_figures=False)"
   ]
  },
  {
   "cell_type": "code",
   "execution_count": null,
   "metadata": {},
   "outputs": [],
   "source": [
    "data_dict.keys()"
   ]
  },
  {
   "cell_type": "code",
   "execution_count": null,
   "metadata": {},
   "outputs": [],
   "source": [
    "data_dict['qb1']"
   ]
  },
  {
   "cell_type": "code",
   "execution_count": null,
   "metadata": {},
   "outputs": [],
   "source": [
    "# plot raw data"
   ]
  },
  {
   "cell_type": "code",
   "execution_count": null,
   "metadata": {},
   "outputs": [],
   "source": [
    "pp = ppmod.ProcessingPipeline('prepare_1d_raw_data_plot_dicts', keys_in='raw', keys_out=None,\n",
    "                              meas_obj_names=list(movnm), sp_name='cliffords', \n",
    "                              xvals=np.tile(np.repeat(ncl, nr_seeds_per_file), nr_files), \n",
    "                              do_plotting=True)#, plot_params={'linestyle': ''})\n",
    "pp(movnm)\n",
    "pp"
   ]
  },
  {
   "cell_type": "code",
   "execution_count": null,
   "metadata": {},
   "outputs": [],
   "source": [
    "pla.process_pipeline(data_dict, processing_pipeline=pp, save_processed_data=True, save_figures=True)"
   ]
  },
  {
   "cell_type": "code",
   "execution_count": null,
   "metadata": {},
   "outputs": [],
   "source": [
    "data_dict.keys()"
   ]
  },
  {
   "cell_type": "code",
   "execution_count": null,
   "metadata": {},
   "outputs": [],
   "source": [
    "save_module.Save(data_dict=data_dict, save_processed_data=False, save_figures=True)"
   ]
  },
  {
   "cell_type": "code",
   "execution_count": null,
   "metadata": {},
   "outputs": [],
   "source": []
  },
  {
   "cell_type": "markdown",
   "metadata": {},
   "source": [
    "# Rabi"
   ]
  },
  {
   "cell_type": "markdown",
   "metadata": {},
   "source": [
    "## multi-qubit"
   ]
  },
  {
   "cell_type": "code",
   "execution_count": null,
   "metadata": {},
   "outputs": [],
   "source": [
    "timestamp = '20191118_181845'"
   ]
  },
  {
   "cell_type": "code",
   "execution_count": null,
   "metadata": {},
   "outputs": [],
   "source": [
    "movnm = hlp_mod.get_param_from_metadata_group('meas_obj_value_names_map', timestamp)\n",
    "print(movnm)\n",
    "reload(ppmod)\n",
    "pp = ppmod.ProcessingPipeline()\n",
    "pp.add_node('rotate_iq', keys_in='raw', meas_obj_names=list(movnm), num_keys_out=1)\n",
    "pp.add_node('rabi_analysis', keys_in='previous rotate_iq', keys_out=None,\n",
    "            meas_obj_names=list(movnm))\n",
    "pp"
   ]
  },
  {
   "cell_type": "code",
   "execution_count": null,
   "metadata": {
    "scrolled": true
   },
   "outputs": [],
   "source": [
    "pp(movnm)\n",
    "pp"
   ]
  },
  {
   "cell_type": "code",
   "execution_count": null,
   "metadata": {
    "scrolled": true
   },
   "outputs": [],
   "source": [
    "reload_anav3()\n",
    "pla.search_modules"
   ]
  },
  {
   "cell_type": "code",
   "execution_count": null,
   "metadata": {},
   "outputs": [],
   "source": [
    "data_dict = pla.extract_data_hdf(timestamp)\n",
    "pla.process_pipeline(data_dict, processing_pipeline=pp)"
   ]
  },
  {
   "cell_type": "code",
   "execution_count": null,
   "metadata": {},
   "outputs": [],
   "source": []
  },
  {
   "cell_type": "code",
   "execution_count": null,
   "metadata": {},
   "outputs": [],
   "source": []
  },
  {
   "cell_type": "code",
   "execution_count": null,
   "metadata": {},
   "outputs": [],
   "source": []
  }
 ],
 "metadata": {
  "kernelspec": {
   "display_name": "Python [conda env:pycqed36]",
   "language": "python",
   "name": "conda-env-pycqed36-py"
  },
  "language_info": {
   "codemirror_mode": {
    "name": "ipython",
    "version": 3
   },
   "file_extension": ".py",
   "mimetype": "text/x-python",
   "name": "python",
   "nbconvert_exporter": "python",
   "pygments_lexer": "ipython3",
   "version": "3.6.6"
  },
  "toc": {
   "base_numbering": 1,
   "nav_menu": {},
   "number_sections": true,
   "sideBar": true,
   "skip_h1_title": false,
   "title_cell": "Table of Contents",
   "title_sidebar": "Contents",
   "toc_cell": false,
   "toc_position": {
    "height": "calc(100% - 180px)",
    "left": "10px",
    "top": "150px",
    "width": "187px"
   },
   "toc_section_display": true,
   "toc_window_display": true
  }
 },
 "nbformat": 4,
 "nbformat_minor": 2
}
