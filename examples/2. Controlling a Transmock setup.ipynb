{
 "cells": [
  {
   "cell_type": "markdown",
   "metadata": {},
   "source": [
    "# Tutorial 2. Controlling a Transmock setup\n",
    "\n",
    "This tutorial covers a \"real\" usage example using the Transmock. We will go over all the aspects relevant in controlling an experiment using the mock transmon. \n",
    "\n",
    "The steps we will cover are \n",
    "1. Initializing the setup\n",
    "2. The device and qubit objects \n",
    "3. Running basic measurements \n",
    "4. Calibrating your setup \n"
   ]
  },
  {
   "cell_type": "markdown",
   "metadata": {},
   "source": [
    "\n",
    "<br>\n",
    "<div class=\"alert alert-info\">\n",
    "<b>NOTE:</b> We recommend using PycQED from a console for actual use. \n",
    "</div>"
   ]
  },
  {
   "cell_type": "markdown",
   "metadata": {
    "toc-hr-collapsed": false
   },
   "source": [
    "# 1. Initializing the setup \n",
    "\n",
    "Experiments in `PycQED` are run by starting an iPython kernel (console or notebook) in which we instantiate different instruments that we then interact with. \n",
    "A session in one of these kernels typically lasts multiple days/weeks in the case of extended experiments. Before we can start runnning an experiment we start by running an initialization script. Such a script consists several steps. \n",
    "\n",
    "1. Importing the required modules. \n",
    "2. Setting the datadirectory\n",
    "3. Instantiating the instruments and (optionally) loading settings onto these instruments\n",
    "\n",
    "Normally the environment would be instantiated by importing from an external init script e.g.: `from my_init import *`. Here we explicitly put all the parts of the initialization script required to setup a 2 qubit mock experiment. Note that all the instruments being used are mock instruments. "
   ]
  },
  {
   "cell_type": "markdown",
   "metadata": {},
   "source": [
    "## importing the required modules"
   ]
  },
  {
   "cell_type": "code",
   "execution_count": null,
   "metadata": {},
   "outputs": [],
   "source": [
    "###############################################################################\n",
    "# Import Statements\n",
    "###############################################################################\n",
    "\n",
    "# Generic python imports \n",
    "import os\n",
    "import warnings\n",
    "import openql\n",
    "import datetime\n",
    "import time\n",
    "import pycqed as pq\n",
    "import networkx as nx\n",
    "\n",
    "import matplotlib.pyplot as plt\n",
    "import numpy as np\n",
    "from importlib import reload\n",
    "\n",
    "\n",
    "\n",
    "# generic PycQED/QCoDeS imports \n",
    "from qcodes import station\n",
    "from pycqed.measurement import measurement_control\n",
    "\n",
    "from pycqed.analysis_v2 import measurement_analysis as ma2\n",
    "from pycqed.analysis import measurement_analysis as ma\n",
    "\n",
    "from pycqed.utilities import general as gen\n",
    "import pycqed.analysis.analysis_toolbox as a_tools\n",
    "\n",
    "# Package for dependency graph based calibrations\n",
    "from autodepgraph import AutoDepGraph_DAG\n",
    "\n",
    "\n",
    "# Annoying warning:\n",
    "os.environ['PYGSTI_BACKCOMPAT_WARNING'] = '0' # suppresses a warning in PyGSTi \n",
    "\n",
    "# Import instruments \n",
    "from pycqed.instrument_drivers.meta_instrument.qubit_objects import mock_CCL_Transmon as mct\n",
    "from pycqed.instrument_drivers.meta_instrument.qubit_objects.qubit_object import Qubit\n",
    "from pycqed.instrument_drivers.meta_instrument.qubit_objects.CCL_Transmon import CCLight_Transmon\n",
    "from pycqed.instrument_drivers.meta_instrument.LutMans.ro_lutman import UHFQC_RO_LutMan\n",
    "from pycqed.instrument_drivers.physical_instruments.QuTech_VSM_Module import Dummy_QuTechVSMModule\n",
    "from pycqed.instrument_drivers.physical_instruments.QuTech_CCL import dummy_CCL\n",
    "from pycqed.instrument_drivers.meta_instrument.qubit_objects.CC_transmon import CBox_v3_driven_transmon, QWG_driven_transmon\n",
    "from pycqed.instrument_drivers.meta_instrument.qubit_objects.Tektronix_driven_transmon import Tektronix_driven_transmon\n",
    "from pycqed.instrument_drivers.meta_instrument.qubit_objects.QuDev_transmon import QuDev_transmon\n",
    "\n",
    "\n",
    "from pycqed.instrument_drivers.physical_instruments.QuTech_Duplexer import Dummy_Duplexer\n",
    "import pycqed.instrument_drivers.physical_instruments.ZurichInstruments.UHFQuantumController as uhf\n",
    "# from pycqed.instrument_drivers.physical_instruments.QuTech_SPI_S4g_FluxCurrent \\\n",
    "#     import QuTech_SPI_S4g_FluxCurrent\n",
    "from pycqed.instrument_drivers.meta_instrument.LutMans import mw_lutman as mwl\n",
    "import pycqed.instrument_drivers.virtual_instruments.virtual_MW_source as vmw\n",
    "import pycqed.instrument_drivers.virtual_instruments.virtual_SignalHound as sh\n",
    "import pycqed.instrument_drivers.physical_instruments.ZurichInstruments.ZI_HDAWG8 as HDAWG\n",
    "import pycqed.instrument_drivers.virtual_instruments.virtual_SPI_S4g_FluxCurrent as flx\n",
    "import pycqed.instrument_drivers.virtual_instruments.virtual_VNA as VNA\n",
    "import pycqed.instrument_drivers.meta_instrument.device_dependency_graphs as DDG\n",
    "import pycqed.instrument_drivers.meta_instrument.device_object_CCL as do\n",
    "from pycqed.instrument_drivers.meta_instrument.Resonator import resonator\n",
    "\n",
    "\n",
    "\n",
    "\n",
    "\n"
   ]
  },
  {
   "cell_type": "markdown",
   "metadata": {},
   "source": [
    "## Setting the datadirectory"
   ]
  },
  {
   "cell_type": "code",
   "execution_count": null,
   "metadata": {},
   "outputs": [],
   "source": [
    "\n",
    "test_datadir = os.path.join(pq.__path__[0], 'tests', 'test_output') # we use a test datadirectory for our examples\n",
    "a_tools.datadir = test_datadir\n",
    "\n",
    "\n",
    "timestamp = None # '20190719_164604'  \n",
    "# the timestamp variable is used below to load settings from previous experiments onto instruments"
   ]
  },
  {
   "cell_type": "markdown",
   "metadata": {},
   "source": [
    "## Instantiating the instruments"
   ]
  },
  {
   "cell_type": "code",
   "execution_count": null,
   "metadata": {},
   "outputs": [],
   "source": [
    "###############################################################################\n",
    "# MC and monitor\n",
    "###############################################################################\n",
    "station = station.Station()\n",
    "# The measurement control is used to control experiments (see tutorial 1.)\n",
    "MC = measurement_control.MeasurementControl(\n",
    "    'MC', live_plot_enabled=True, verbose=True)\n",
    "MC.station = station\n",
    "station.add_component(MC)\n",
    "MC.create_plot_monitor()\n",
    "MC.live_plot_enabled(True)\n",
    "\n",
    "# Required to set it to the testing datadir\n",
    "MC.datadir(a_tools.datadir)\n",
    "\n",
    "\n",
    "###############################################################################\n",
    "# nested MC\n",
    "###############################################################################\n",
    "nested_MC = measurement_control.MeasurementControl(\n",
    "    'nested_MC', live_plot_enabled=True, verbose=True)\n",
    "nested_MC.station = station\n",
    "station.add_component(nested_MC)\n",
    "nested_MC.datadir(a_tools.datadir)"
   ]
  },
  {
   "cell_type": "code",
   "execution_count": null,
   "metadata": {},
   "outputs": [],
   "source": [
    "###############################################################################\n",
    "# Instruments\n",
    "###############################################################################\n",
    "# Fluxcurrent\n",
    "fluxcurrent = flx.virtual_SPI_S4g_FluxCurrent(\n",
    "        'fluxcurrent',\n",
    "        channel_map={\n",
    "            'FBL_QL': (0, 0),\n",
    "            'FBL_QR': (0, 1),\n",
    "        })\n",
    "fluxcurrent.FBL_QL(0)\n",
    "fluxcurrent.FBL_QR(0)\n",
    "station.add_component(fluxcurrent)\n",
    "\n",
    "###############################################################################\n",
    "# VNA\n",
    "VNA = VNA.virtual_ZNB20('VNA')\n",
    "station.add_component(VNA)\n",
    "\n",
    "###############################################################################\n",
    "# MW sources\n",
    "MW1 = vmw.VirtualMWsource('MW1')\n",
    "MW2 = vmw.VirtualMWsource('MW2')\n",
    "MW3 = vmw.VirtualMWsource('MW3')\n",
    "\n",
    "###############################################################################\n",
    "# SignalHound\n",
    "SH = sh.virtual_SignalHound_USB_SA124B('SH')\n",
    "\n",
    "###############################################################################\n",
    "# UHFQC\n",
    "UHFQC = uhf.UHFQC(name='UHFQC', server='emulator',\n",
    "                               device='dev2109', interface='1GbE')\n",
    "\n",
    "###############################################################################\n",
    "# CCL\n",
    "CCL = dummy_CCL('CCL')\n",
    "\n",
    "###############################################################################\n",
    "# VSM\n",
    "VSM = Dummy_QuTechVSMModule('VSM')\n",
    "\n",
    "###############################################################################\n",
    "# AWG\n",
    "AWG = HDAWG.ZI_HDAWG8(name='DummyAWG8', server='emulator', num_codewords=32, device='dev8026', interface='1GbE')\n",
    "\n",
    "\n",
    "AWG8_VSM_MW_LutMan = mwl.AWG8_VSM_MW_LutMan('MW_LutMan_VSM')\n",
    "AWG8_VSM_MW_LutMan.AWG(AWG.name)\n",
    "AWG8_VSM_MW_LutMan.channel_GI(1)\n",
    "AWG8_VSM_MW_LutMan.channel_GQ(2)\n",
    "AWG8_VSM_MW_LutMan.channel_DI(3)\n",
    "AWG8_VSM_MW_LutMan.channel_DQ(4)\n",
    "AWG8_VSM_MW_LutMan.mw_modulation(100e6)\n",
    "AWG8_VSM_MW_LutMan.sampling_rate(2.4e9)\n",
    "\n",
    "###############################################################################\n",
    "# RO Lutman\n",
    "ro_lutman = UHFQC_RO_LutMan(\n",
    "    'RO_lutman', num_res=5, feedline_number=0)\n",
    "ro_lutman.AWG(UHFQC.name)\n",
    "\n",
    "###############################################################################\n",
    "# Qubit\n",
    "QL = mct.Mock_CCLight_Transmon('QL')\n",
    "\n",
    "# Assign instruments\n",
    "QL.instr_LutMan_MW(AWG8_VSM_MW_LutMan.name)\n",
    "QL.instr_LO_ro(MW1.name)\n",
    "QL.instr_LO_mw(MW2.name)\n",
    "QL.instr_spec_source(MW3.name)\n",
    "\n",
    "QL.instr_acquisition(UHFQC.name)\n",
    "QL.instr_VSM(VSM.name)\n",
    "QL.instr_CC(CCL.name)\n",
    "QL.instr_LutMan_RO(ro_lutman.name)\n",
    "QL.instr_MC(MC.name)\n",
    "QL.instr_nested_MC(nested_MC.name)\n",
    "QL.instr_FluxCtrl(fluxcurrent.name)\n",
    "QL.instr_SH(SH.name)\n",
    "QL.cfg_with_vsm(False)\n",
    "QL.done_spectroscopy = False\n",
    "\n",
    "config_fn = os.path.join(\n",
    "    pq.__path__[0], 'tests', 'openql', 'test_cfg_CCL.json')\n",
    "QL.cfg_openql_platform_fn(config_fn)\n",
    "# QL.dep_graph()\n",
    "station.add_component(QL)\n",
    "# Does not set any initial parameters, it should work from scratch\n",
    "# Qubit\n",
    "QR = mct.Mock_CCLight_Transmon('QR')\n",
    "QR_parameters = {'mock_Ec': 243e6,\n",
    "                 'mock_Ej1': 8.348e9,\n",
    "                 'mock_Ej2': 8.246e9,\n",
    "                 'mock_fl_dc_I_per_phi0': {'FBL_QL': 2, 'FBL_QR': 20.3153e-3},\n",
    "                 # 'mock_fl_dc_V0'\n",
    "                 'mock_fl_dc_ch': 'FBL_QR',\n",
    "                 'mock_freq_res_bare': 7.35e9,\n",
    "                 'mock_freq_test_res': 7.73e9,\n",
    "                 'mock_sweetspot_phi_over_phi0': 0,\n",
    "                 'mock_Qe': 19000,\n",
    "                 'mock_Q': 15000,\n",
    "                 'mock_slope': 0}\n",
    "\n",
    "\n",
    "for parameter, value in QR_parameters.items():\n",
    "    QR.parameters[parameter](value)\n",
    "# Assign instruments\n",
    "QR.instr_LutMan_MW(AWG8_VSM_MW_LutMan.name)\n",
    "QR.instr_LO_ro(MW1.name)\n",
    "QR.instr_LO_mw(MW2.name)\n",
    "QR.instr_spec_source(MW3.name)\n",
    "\n",
    "QR.instr_acquisition(UHFQC.name)\n",
    "QR.instr_VSM(VSM.name)\n",
    "QR.instr_CC(CCL.name)\n",
    "QR.instr_LutMan_RO(ro_lutman.name)\n",
    "QR.instr_MC(MC.name)\n",
    "QR.instr_nested_MC(nested_MC.name)\n",
    "QR.instr_FluxCtrl(fluxcurrent.name)\n",
    "QR.instr_SH(SH.name)\n",
    "\n",
    "\n",
    "config_fn = os.path.join(\n",
    "    pq.__path__[0], 'tests', 'openql', 'test_cfg_CCL.json')\n",
    "QR.cfg_openql_platform_fn(config_fn)\n",
    "# QR.dep_graph()\n",
    "station.add_component(QR)\n",
    "\n",
    "fakequbit = mct.Mock_CCLight_Transmon('fakequbit')\n",
    "\n",
    "# Assign instruments\n",
    "fakequbit.instr_LutMan_MW(AWG8_VSM_MW_LutMan.name)\n",
    "fakequbit.instr_LO_ro(MW1.name)\n",
    "fakequbit.instr_LO_mw(MW2.name)\n",
    "fakequbit.instr_spec_source(MW3.name)\n",
    "\n",
    "fakequbit.instr_acquisition(UHFQC.name)\n",
    "fakequbit.instr_VSM(VSM.name)\n",
    "fakequbit.instr_CC(CCL.name)\n",
    "fakequbit.instr_LutMan_RO(ro_lutman.name)\n",
    "fakequbit.instr_MC(MC.name)\n",
    "fakequbit.instr_nested_MC(nested_MC.name)\n",
    "fakequbit.instr_FluxCtrl(fluxcurrent.name)\n",
    "fakequbit.instr_SH(SH.name)\n",
    "fakequbit.cfg_with_vsm(False)\n",
    "\n",
    "config_fn = os.path.join(\n",
    "    pq.__path__[0], 'tests', 'openql', 'test_cfg_CCL.json')\n",
    "fakequbit.cfg_openql_platform_fn(config_fn)\n",
    "# fakequbit.dep_graph()\n",
    "station.add_component(fakequbit)\n",
    "##############################################################################\n",
    "# Device\n",
    "Mock_Octobox = do.DeviceCCL(name='Mock_Octobox')\n",
    "Mock_Octobox.qubits(['QL', 'QR', 'fakequbit'])\n",
    "\n",
    "QL.instr_device(Mock_Octobox.name)\n",
    "QR.instr_device(Mock_Octobox.name)\n",
    "fakequbit.instr_device(Mock_Octobox.name)\n",
    "resQL = resonator('2', freq=7.5e9)\n",
    "resQR = resonator('1', freq=7.35e9)\n",
    "rest1 = resonator('t1', freq=7.73e9, type='test_resonator')\n",
    "rest2 = resonator('t2', freq=7.8e9, type='test_resonator')\n",
    "\n",
    "# Mock_Octobox.expected_resonators = [resQR, resQL, rest1, rest2]\n",
    "###############################################################################\n",
    "# DepGraph\n",
    "Qubits = [QL, QR, fakequbit]\n",
    "# some_file.py\n",
    "dag = DDG.octobox_dep_graph(name='Octobox', device=Mock_Octobox)\n",
    "# dag.create_dep_graph(Qubits)\n",
    "# dag.set_all_node_states('needs calibration')\n",
    "# dag.set_node_state('QL Drive Mixer Calibrations', 'good')\n",
    "# dag.set_node_state('QR Drive Mixer Calibrations', 'good')\n",
    "# dag.set_node_state('QL Readout Mixer Calibrations', 'good')\n",
    "# dag.set_node_state('QR Readout Mixer Calibrations', 'good')\n",
    "# ###############################################################################\n",
    "# # Hacky stuff to make life easier\n",
    "\n",
    "# # Room temp:\n",
    "QL.freq_qubit(5.85e9)\n",
    "QR.freq_qubit(5.48e9)\n",
    "\n",
    "for Q in Qubits:\n",
    "    # Q.ro_acq_averages(32768*4)\n",
    "    Q.ro_freq(7.5e9)\n",
    "\n",
    "# # QL.freq_res(QL.mock_freq_res())\n",
    "# # QL.ro_pulse_amp_CW(QL.mock_ro_pulse_amp_CW())\n",
    "\n",
    "# # gen.load_settings_onto_instrument_v2(QL, timestamp=timestamp)\n",
    "# # gen.load_settings_onto_instrument_v2(fakequbit, timestamp=timestamp)\n",
    "# dag.maintain_QL_Frequency_at_Sweetspot()\n",
    "# dag.maintain_QR_Frequency_Fine()\n",
    "# freqs = np.arange(7.348e9, 7.352e9, 0.025e6)\n",
    "# powers = np.arange(-40, 1, 1)\n",
    "# fakequbit.measure_resonator_power(freqs=freqs, powers=powers)\n",
    "\n",
    "\n",
    "# for power in np.arange(-35, -14, 1):\n",
    "#     QL.spec_pow(power)\n",
    "#     QL.find_frequency(freqs=np.arange(5.85e9 - 20e6, 5.85e9+20e6, 0.1e6))"
   ]
  },
  {
   "cell_type": "code",
   "execution_count": null,
   "metadata": {},
   "outputs": [],
   "source": []
  },
  {
   "cell_type": "code",
   "execution_count": null,
   "metadata": {},
   "outputs": [],
   "source": [
    "dag.set_all_node_states('needs calibration')\n",
    "dag.open_html_viewer()"
   ]
  },
  {
   "cell_type": "code",
   "execution_count": null,
   "metadata": {},
   "outputs": [],
   "source": [
    "dag.maintain_node('QL ALLXY')"
   ]
  },
  {
   "cell_type": "code",
   "execution_count": null,
   "metadata": {},
   "outputs": [],
   "source": []
  },
  {
   "cell_type": "markdown",
   "metadata": {},
   "source": [
    "# 2. Running an experiment on a mock transmon"
   ]
  },
  {
   "cell_type": "code",
   "execution_count": null,
   "metadata": {},
   "outputs": [],
   "source": [
    "QR.measure_allxy()"
   ]
  },
  {
   "cell_type": "code",
   "execution_count": null,
   "metadata": {},
   "outputs": [],
   "source": [
    "QR.instr_acquisition()"
   ]
  },
  {
   "cell_type": "code",
   "execution_count": null,
   "metadata": {},
   "outputs": [],
   "source": []
  },
  {
   "cell_type": "code",
   "execution_count": null,
   "metadata": {},
   "outputs": [],
   "source": [
    "ro_lutman.load_waveforms_onto_AWG_lookuptable()"
   ]
  },
  {
   "cell_type": "code",
   "execution_count": null,
   "metadata": {},
   "outputs": [],
   "source": []
  },
  {
   "cell_type": "code",
   "execution_count": null,
   "metadata": {},
   "outputs": [],
   "source": [
    "UHFQC.awg_sequence_acquisition_and_DIO_triggered_pulse??"
   ]
  },
  {
   "cell_type": "code",
   "execution_count": null,
   "metadata": {},
   "outputs": [],
   "source": [
    "ro_lutman.load_DIO_triggered_sequence_onto_UHFQC()"
   ]
  },
  {
   "cell_type": "code",
   "execution_count": null,
   "metadata": {},
   "outputs": [],
   "source": [
    "UHFQC_RO_LutMan.load_waveforms_onto_AWG_lookuptable()"
   ]
  },
  {
   "cell_type": "code",
   "execution_count": null,
   "metadata": {},
   "outputs": [],
   "source": [
    "UHFQC_RO_LutMan.load_DIO_triggered_sequence_onto_UHFQC()\n"
   ]
  },
  {
   "cell_type": "code",
   "execution_count": null,
   "metadata": {},
   "outputs": [],
   "source": [
    "print(\"hello\")"
   ]
  },
  {
   "cell_type": "code",
   "execution_count": null,
   "metadata": {},
   "outputs": [],
   "source": [
    "UHFQC.close()\n"
   ]
  },
  {
   "cell_type": "code",
   "execution_count": null,
   "metadata": {},
   "outputs": [],
   "source": [
    "station.components"
   ]
  },
  {
   "cell_type": "code",
   "execution_count": null,
   "metadata": {},
   "outputs": [],
   "source": [
    "import pycqed.instrument_drivers.physical_instruments.ZurichInstruments.UHFQuantumController as uhf"
   ]
  },
  {
   "cell_type": "code",
   "execution_count": null,
   "metadata": {},
   "outputs": [],
   "source": [
    "UHFQC = uhf.UHFQC(name='UHFQC', server='emulator',\n",
    "                               device='dev2109', interface='1GbE')"
   ]
  },
  {
   "cell_type": "code",
   "execution_count": null,
   "metadata": {},
   "outputs": [],
   "source": []
  },
  {
   "cell_type": "code",
   "execution_count": null,
   "metadata": {},
   "outputs": [],
   "source": [
    "UHFQC.print_overview()"
   ]
  },
  {
   "cell_type": "code",
   "execution_count": null,
   "metadata": {},
   "outputs": [],
   "source": [
    "AWG.close()"
   ]
  },
  {
   "cell_type": "code",
   "execution_count": null,
   "metadata": {},
   "outputs": [],
   "source": [
    "import pycqed.instrument_drivers.physical_instruments.ZurichInstruments.ZI_HDAWG8 as HDAWG"
   ]
  },
  {
   "cell_type": "code",
   "execution_count": null,
   "metadata": {},
   "outputs": [],
   "source": [
    "QL.cfg_with_vsm(True)"
   ]
  },
  {
   "cell_type": "code",
   "execution_count": null,
   "metadata": {},
   "outputs": [],
   "source": [
    "QL.measure_allxy()"
   ]
  },
  {
   "cell_type": "code",
   "execution_count": null,
   "metadata": {},
   "outputs": [],
   "source": [
    "UHFQC.print_overview()"
   ]
  },
  {
   "cell_type": "code",
   "execution_count": null,
   "metadata": {},
   "outputs": [],
   "source": []
  },
  {
   "cell_type": "code",
   "execution_count": null,
   "metadata": {},
   "outputs": [],
   "source": [
    "UHFQC.print_user_regs_overview()"
   ]
  },
  {
   "cell_type": "code",
   "execution_count": null,
   "metadata": {},
   "outputs": [],
   "source": [
    "def print_user_regs_overview(self):\n",
    "    msg = '\\t User registers overview \\n'\n",
    "    user_reg_funcs = ['']*16\n",
    "    user_reg_funcs[0] = 'Loop count'\n",
    "    user_reg_funcs[1] = 'Readout mode'\n",
    "    user_reg_funcs[2] = 'Wait delay'\n",
    "    user_reg_funcs[3] = 'Average count'\n",
    "    user_reg_funcs[4] = 'Error count'\n",
    "    \n",
    "    for i in range(16):\n",
    "        msg += 'User reg {}: \\t{}\\t({})\\n'.format(\n",
    "            i, self.get('awgs_0_userregs_{}'.format(i)), user_reg_funcs[i])\n",
    "    print(msg)"
   ]
  },
  {
   "cell_type": "code",
   "execution_count": null,
   "metadata": {},
   "outputs": [],
   "source": [
    "print_user_regs_overview(UHFQC)"
   ]
  },
  {
   "cell_type": "code",
   "execution_count": null,
   "metadata": {},
   "outputs": [],
   "source": [
    "1024*42"
   ]
  },
  {
   "cell_type": "code",
   "execution_count": null,
   "metadata": {},
   "outputs": [],
   "source": [
    "np.random.random((10,10))"
   ]
  },
  {
   "cell_type": "code",
   "execution_count": null,
   "metadata": {},
   "outputs": [],
   "source": []
  }
 ],
 "metadata": {
  "language_info": {
   "name": "python",
   "pygments_lexer": "ipython3"
  }
 },
 "nbformat": 4,
 "nbformat_minor": 4
}
